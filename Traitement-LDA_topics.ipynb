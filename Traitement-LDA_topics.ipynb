{
 "cells": [
  {
   "cell_type": "code",
   "execution_count": 1,
   "id": "44a3b2c4",
   "metadata": {
    "scrolled": true
   },
   "outputs": [
    {
     "name": "stderr",
     "output_type": "stream",
     "text": [
      "C:\\Users\\sbens\\Miniconda3\\lib\\site-packages\\numpy\\_distributor_init.py:32: UserWarning: loaded more than 1 DLL from .libs:\n",
      "C:\\Users\\sbens\\Miniconda3\\lib\\site-packages\\numpy\\.libs\\libopenblas.GK7GX5KEQ4F6UYO3P26ULGBQYHGQO7J4.gfortran-win_amd64.dll\n",
      "C:\\Users\\sbens\\Miniconda3\\lib\\site-packages\\numpy\\.libs\\libopenblas.PYQHXLVVQ7VESDPUVUADXEVJOBGHJPAY.gfortran-win_amd64.dll\n",
      "  stacklevel=1)\n",
      "C:\\Users\\sbens\\Miniconda3\\lib\\site-packages\\gensim\\similarities\\__init__.py:15: UserWarning: The gensim.similarities.levenshtein submodule is disabled, because the optional Levenshtein package <https://pypi.org/project/python-Levenshtein/> is unavailable. Install Levenhstein (e.g. `pip install python-Levenshtein`) to suppress this warning.\n",
      "  warnings.warn(msg)\n"
     ]
    }
   ],
   "source": [
    "import os\n",
    "import pandas as pd\n",
    "import nltk as nltk\n",
    "import numpy as np\n",
    "import re\n",
    "import string\n",
    "from nltk.corpus import stopwords\n",
    "from nltk.tokenize import word_tokenize\n",
    "from sklearn.feature_extraction.text import TfidfVectorizer\n",
    "from sklearn.model_selection import train_test_split\n",
    "from nltk.stem import PorterStemmer\n",
    "from nltk.stem import WordNetLemmatizer\n",
    "from gensim import corpora, models\n",
    "import matplotlib.pyplot as plt\n",
    "import matplotlib.patches as patches\n",
    "import matplotlib.dates as mdates\n",
    "from collections import Counter\n",
    "import datetime\n"
   ]
  },
  {
   "cell_type": "code",
   "execution_count": 17,
   "id": "a00735d7",
   "metadata": {},
   "outputs": [
    {
     "name": "stdout",
     "output_type": "stream",
     "text": [
      "C:\\Users\\sbens\\Desktop\\Covid_RP\\covid19_twitter\n"
     ]
    }
   ],
   "source": [
    "cwd = os.getcwd()\n",
    "print(cwd)"
   ]
  },
  {
   "cell_type": "code",
   "execution_count": 19,
   "id": "7cf314a6",
   "metadata": {},
   "outputs": [],
   "source": [
    "fr_01 = pd.read_json(\"fr_data/hydrated_fr_tweets01_short.json\", lines=True)\n",
    "fr_02 = pd.read_json(\"fr_data/hydrated_fr_tweets02_short.json\", lines=True)\n",
    "fr_03 = pd.read_json(\"fr_data/hydrated_fr_tweets03_short.json\", lines=True)\n",
    "fr_04 = pd.read_json(\"fr_data/hydrated_fr_tweets04_short.json\", lines=True)\n",
    "fr_05 = pd.read_json(\"fr_data/hydrated_fr_tweets05_short.json\", lines=True)"
   ]
  },
  {
   "cell_type": "code",
   "execution_count": 20,
   "id": "c4c26b3b",
   "metadata": {},
   "outputs": [],
   "source": [
    "fr_06 = pd.read_json(\"fr_data/hydrated_fr_tweets06_short.json\", lines=True)\n",
    "fr_07 = pd.read_json(\"fr_data/hydrated_fr_tweets07_short.json\", lines=True)\n",
    "fr_08 = pd.read_json(\"fr_data/hydrated_fr_tweets08_short.json\", lines=True)\n",
    "fr_09 = pd.read_json(\"fr_data/hydrated_fr_tweets09_short.json\", lines=True)\n",
    "fr_10 = pd.read_json(\"fr_data/hydrated_fr_tweets10_short.json\", lines=True)\n",
    "fr_11 = pd.read_json(\"fr_data/hydrated_fr_tweets11_short.json\", lines=True)"
   ]
  },
  {
   "cell_type": "code",
   "execution_count": 21,
   "id": "66c6288a",
   "metadata": {},
   "outputs": [],
   "source": [
    "fr_tweets = pd.concat([fr_01, fr_02, fr_03, fr_04, fr_05, fr_06, fr_07, fr_08, fr_09, fr_10, fr_11], ignore_index = True)"
   ]
  },
  {
   "cell_type": "markdown",
   "id": "61543615",
   "metadata": {},
   "source": [
    "### Pre-processing"
   ]
  },
  {
   "cell_type": "code",
   "execution_count": 46,
   "id": "a5bbe5f5",
   "metadata": {},
   "outputs": [
    {
     "name": "stderr",
     "output_type": "stream",
     "text": [
      "C:\\Users\\sbens\\Miniconda3\\lib\\site-packages\\ipykernel\\ipkernel.py:287: DeprecationWarning: `should_run_async` will not call `transform_cell` automatically in the future. Please pass the result to `transformed_cell` argument and any exception that happen during thetransform in `preprocessing_exc_tuple` in IPython 7.17 and above.\n",
      "  and should_run_async(code)\n"
     ]
    }
   ],
   "source": [
    "fr_stop = stopwords.words('french')"
   ]
  },
  {
   "cell_type": "code",
   "execution_count": 47,
   "id": "168377c1",
   "metadata": {},
   "outputs": [
    {
     "name": "stderr",
     "output_type": "stream",
     "text": [
      "C:\\Users\\sbens\\Miniconda3\\lib\\site-packages\\ipykernel\\ipkernel.py:287: DeprecationWarning: `should_run_async` will not call `transform_cell` automatically in the future. Please pass the result to `transformed_cell` argument and any exception that happen during thetransform in `preprocessing_exc_tuple` in IPython 7.17 and above.\n",
      "  and should_run_async(code)\n"
     ]
    }
   ],
   "source": [
    "MyStopwords = [\"a\",\"abord\",\"absolument\",\"afin\",\"ah\",\"ai\",\"aie\",\"aient\",\"aies\",\"ailleurs\",\"ainsi\",\"ait\",\"allaient\",\"allo\",\"allons\",\"allô\",\"alors\",\"anterieur\",\"anterieure\",\"anterieures\",\"apres\",\"après\",\"as\",\"assez\",\"attendu\",\"au\",\"aucun\",\"aucune\",\"aucuns\",\"aujourd\",\"aujourd'hui\",\"aupres\",\"auquel\",\"aura\",\"aurai\",\"auraient\",\"aurais\",\"aurait\",\"auras\",\"aurez\",\"auriez\",\"aurions\",\"aurons\",\"auront\",\"aussi\",\"autant\",\"autre\",\"autrefois\",\"autrement\",\"autres\",\"autrui\",\"aux\",\"auxquelles\",\"auxquels\",\"avaient\",\"avais\",\"avait\",\"avant\",\"avec\",\"avez\",\"aviez\",\"avions\",\"avoir\",\"avons\",\"ayant\",\"ayez\",\"ayons\",\"b\",\"bah\",\"bas\",\"basee\",\"bat\",\"beau\",\"beaucoup\",\"bien\",\"bigre\",\"bon\",\"boum\",\"bravo\",\"brrr\",\"c\",\"car\",\"ce\",\"ceci\",\"cela\",\"celle\",\"celle-ci\",\"celle-là\",\"celles\",\"celles-ci\",\"celles-là\",\"celui\",\"celui-ci\",\"celui-là\",\"celà\",\"cent\",\"cependant\",\"certain\",\"certaine\",\"certaines\",\"certains\",\"certes\",\"ces\",\"cet\",\"cette\",\"ceux\",\"ceux-ci\",\"ceux-là\",\"chacun\",\"chacune\",\"chaque\",\"cher\",\"chers\",\"chez\",\"chiche\",\"chut\",\"chère\",\"chères\",\"ci\",\"cinq\",\"cinquantaine\",\"cinquante\",\"cinquantième\",\"cinquième\",\"clac\",\"clic\",\"combien\",\"comme\",\"comment\",\"comparable\",\"comparables\",\"compris\",\"concernant\",\"contre\",\"couic\",\"crac\",\"d\",\"da\",\"dans\",\"de\",\"debout\",\"dedans\",\"dehors\",\"deja\",\"déjà\",\"delà\",\"depuis\",\"dernier\",\"derniere\",\"derriere\",\"derrière\",\"des\",\"desormais\",\"desquelles\",\"desquels\",\"dessous\",\"dessus\",\"deux\",\"deuxième\",\"deuxièmement\",\"devant\",\"devers\",\"devra\",\"devrait\",\"different\",\"differentes\",\"differents\",\"différent\",\"différente\",\"différentes\",\"différents\",\"dire\",\"directe\",\"directement\",\"dit\",\"dite\",\"dits\",\"divers\",\"diverse\",\"diverses\",\"dix\",\"dix-huit\",\"dix-neuf\",\"dix-sept\",\"dixième\",\"doit\",\"doivent\",\"donc\",\"dont\",\"dos\",\"douze\",\"douzième\",\"dring\",\"droite\",\"du\",\"duquel\",\"durant\",\"dès\",\"début\",\"désormais\",\"e\",\"effet\",\"egale\",\"egalement\",\"egales\",\"eh\",\"elle\",\"elle-même\",\"elles\",\"elles-mêmes\",\"en\",\"encore\",\"enfin\",\"entre\",\"envers\",\"environ\",\"es\",\"essai\",\"est\",\"et\",\"etant\",\"etc\",\"etre\",\"eu\",\"eue\",\"eues\",\"euh\",\"eurent\",\"eus\",\"eusse\",\"eussent\",\"eusses\",\"eussiez\",\"eussions\",\"eut\",\"eux\",\"eux-mêmes\",\"exactement\",\"excepté\",\"extenso\",\"exterieur\",\"eûmes\",\"eût\",\"eûtes\",\"f\",\"fais\",\"faisaient\",\"faisant\",\"fait\",\"faites\",\"façon\",\"feront\",\"fi\",\"flac\",\"floc\",\"fois\",\"font\",\"force\",\"furent\",\"fus\",\"fusse\",\"fussent\",\"fusses\",\"fussiez\",\"fussions\",\"fut\",\"fûmes\",\"fût\",\"fûtes\",\"g\",\"gens\",\"h\",\"ha\",\"haut\",\"hein\",\"hem\",\"hep\",\"hi\",\"ho\",\"holà\",\"hop\",\"hormis\",\"hors\",\"hou\",\"houp\",\"hue\",\"hui\",\"huit\",\"huitième\",\"hum\",\"hurrah\",\"hé\",\"hélas\",\"i\",\"ici\",\"il\",\"ils\",\"importe\",\"j\",\"je\",\"jusqu\",\"jusque\",\"juste\",\"k\",\"l\",\"la\",\"laisser\",\"laquelle\",\"las\",\"le\",\"lequel\",\"les\",\"lesquelles\",\"lesquels\",\"leur\",\"leurs\",\"longtemps\",\"lors\",\"lorsque\",\"lui\",\"lui-meme\",\"lui-même\",\"là\",\"lès\",\"m\",\"ma\",\"maint\",\"maintenant\",\"mais\",\"malgre\",\"malgré\",\"maximale\",\"me\",\"meme\",\"memes\",\"merci\",\"mes\",\"mien\",\"mienne\",\"miennes\",\"miens\",\"mille\",\"mince\",\"mine\",\"minimale\",\"moi\",\"moi-meme\",\"moi-même\",\"moindres\",\"moins\",\"mon\",\"mot\",\"moyennant\",\"multiple\",\"multiples\",\"même\",\"mêmes\",\"n\",\"na\",\"naturel\",\"naturelle\",\"naturelles\",\"ne\",\"neanmoins\",\"necessaire\",\"necessairement\",\"neuf\",\"neuvième\",\"ni\",\"nombreuses\",\"nombreux\",\"nommés\",\"non\",\"nos\",\"notamment\",\"notre\",\"nous\",\"nous-mêmes\",\"nouveau\",\"nouveaux\",\"nul\",\"néanmoins\",\"nôtre\",\"nôtres\",\"o\",\"oh\",\"ohé\",\"ollé\",\"olé\",\"on\",\"ont\",\"onze\",\"onzième\",\"ore\",\"ou\",\"ouf\",\"ouias\",\"oust\",\"ouste\",\"outre\",\"ouvert\",\"ouverte\",\"ouverts\",\"o|\",\"où\",\"p\",\"paf\",\"pan\",\"par\",\"parce\",\"parfois\",\"parle\",\"parlent\",\"parler\",\"parmi\",\"parole\",\"parseme\",\"partant\",\"particulier\",\"particulière\",\"particulièrement\",\"pas\",\"passé\",\"pendant\",\"pense\",\"permet\",\"personne\",\"personnes\",\"peu\",\"peut\",\"peuvent\",\"peux\",\"pff\",\"pfft\",\"pfut\",\"pif\",\"pire\",\"pièce\",\"plein\",\"plouf\",\"plupart\",\"plus\",\"plusieurs\",\"plutôt\",\"possessif\",\"possessifs\",\"possible\",\"possibles\",\"pouah\",\"pour\",\"pourquoi\",\"pourrais\",\"pourrait\",\"pouvait\",\"prealable\",\"precisement\",\"premier\",\"première\",\"premièrement\",\"pres\",\"probable\",\"probante\",\"procedant\",\"proche\",\"près\",\"psitt\",\"pu\",\"puis\",\"puisque\",\"pur\",\"pure\",\"q\",\"qu\",\"quand\",\"quant\",\"quant-à-soi\",\"quanta\",\"quarante\",\"quatorze\",\"quatre\",\"quatre-vingt\",\"quatrième\",\"quatrièmement\",\"que\",\"quel\",\"quelconque\",\"quelle\",\"quelles\",\"quelqu'un\",\"quelque\",\"quelques\",\"quels\",\"qui\",\"quiconque\",\"quinze\",\"quoi\",\"quoique\",\"r\",\"rare\",\"rarement\",\"rares\",\"relative\",\"relativement\",\"remarquable\",\"rend\",\"rendre\",\"restant\",\"reste\",\"restent\",\"restrictif\",\"retour\",\"revoici\",\"revoilà\",\"rien\",\"s\",\"sa\",\"sacrebleu\",\"sait\",\"sans\",\"sapristi\",\"sauf\",\"se\",\"sein\",\"seize\",\"selon\",\"semblable\",\"semblaient\",\"semble\",\"semblent\",\"sent\",\"sept\",\"septième\",\"sera\",\"serai\",\"seraient\",\"serais\",\"serait\",\"seras\",\"serez\",\"seriez\",\"serions\",\"serons\",\"seront\",\"ses\",\"seul\",\"seule\",\"seulement\",\"si\",\"sien\",\"sienne\",\"siennes\",\"siens\",\"sinon\",\"six\",\"sixième\",\"soi\",\"soi-même\",\"soient\",\"sois\",\"soit\",\"soixante\",\"sommes\",\"son\",\"sont\",\"sous\",\"souvent\",\"soyez\",\"soyons\",\"specifique\",\"specifiques\",\"speculatif\",\"stop\",\"strictement\",\"subtiles\",\"suffisant\",\"suffisante\",\"suffit\",\"suis\",\"suit\",\"suivant\",\"suivante\",\"suivantes\",\"suivants\",\"suivre\",\"sujet\",\"superpose\",\"sur\",\"surtout\",\"t\",\"ta\",\"tac\",\"tandis\",\"tant\",\"tardive\",\"te\",\"tel\",\"telle\",\"tellement\",\"telles\",\"tels\",\"tenant\",\"tend\",\"tenir\",\"tente\",\"tes\",\"tic\",\"tien\",\"tienne\",\"tiennes\",\"tiens\",\"toc\",\"toi\",\"toi-même\",\"ton\",\"touchant\",\"toujours\",\"tous\",\"tout\",\"toute\",\"toutefois\",\"toutes\",\"treize\",\"trente\",\"tres\",\"trois\",\"troisième\",\"troisièmement\",\"trop\",\"très\",\"tsoin\",\"tsouin\",\"tu\",\"té\",\"u\",\"un\",\"une\",\"unes\",\"uniformement\",\"unique\",\"uniques\",\"uns\",\"v\",\"va\",\"vais\",\"valeur\",\"vas\",\"vers\",\"via\",\"vif\",\"vifs\",\"vingt\",\"vivat\",\"vive\",\"vives\",\"vlan\",\"voici\",\"voie\",\"voient\",\"voilà\",\"voire\",\"vont\",\"vos\",\"votre\",\"vous\",\"vous-mêmes\",\"vu\",\"vé\",\"vôtre\",\"vôtres\",\"w\",\"x\",\"y\",\"z\",\"zut\",\"à\",\"â\",\"ça\",\"ès\",\"étaient\",\"étais\",\"était\",\"étant\",\"état\",\"étiez\",\"étions\",\"été\",\"étée\",\"étées\",\"étés\",\"êtes\",\"être\",\"ô\"]"
   ]
  },
  {
   "cell_type": "code",
   "execution_count": 48,
   "id": "bc84683e",
   "metadata": {},
   "outputs": [
    {
     "name": "stderr",
     "output_type": "stream",
     "text": [
      "C:\\Users\\sbens\\Miniconda3\\lib\\site-packages\\ipykernel\\ipkernel.py:287: DeprecationWarning: `should_run_async` will not call `transform_cell` automatically in the future. Please pass the result to `transformed_cell` argument and any exception that happen during thetransform in `preprocessing_exc_tuple` in IPython 7.17 and above.\n",
      "  and should_run_async(code)\n"
     ]
    }
   ],
   "source": [
    "MesAjouts = [\"cest\",\"amp\",\"je\",\"tu\",\"il\",\"elle\",\"on\",\"nous\",\"vous\",\"ils\",\"elles\",\"oui\",\"non\",\"les\",\"le\",\"dans\",\"des\",\"de\",\"vraiment\",\"faire\",\"quil\",\"aller\",\"jai\",\"le…\",\"bientôt\",\"bientot\",\"dun\", \"mdr\", \"nest\",\"n'est\",\"000\"]"
   ]
  },
  {
   "cell_type": "code",
   "execution_count": 49,
   "id": "a063be06",
   "metadata": {},
   "outputs": [
    {
     "name": "stderr",
     "output_type": "stream",
     "text": [
      "C:\\Users\\sbens\\Miniconda3\\lib\\site-packages\\ipykernel\\ipkernel.py:287: DeprecationWarning: `should_run_async` will not call `transform_cell` automatically in the future. Please pass the result to `transformed_cell` argument and any exception that happen during thetransform in `preprocessing_exc_tuple` in IPython 7.17 and above.\n",
      "  and should_run_async(code)\n"
     ]
    }
   ],
   "source": [
    "fr_keywords = [\"COVD19\", \"CoronavirusPandemic\", \"COVID-19\", \"2019nCoV\", \"CoronaOutbreak\", \"coronavirus\", \"WuhanVirus\", \"covid19\", \"coronaviruspandemic\", \"covid-19\", \"2019ncov\", \"coronaoutbreak\", \"wuhanvirus\"]"
   ]
  },
  {
   "cell_type": "code",
   "execution_count": 50,
   "id": "dda86509",
   "metadata": {},
   "outputs": [
    {
     "name": "stderr",
     "output_type": "stream",
     "text": [
      "C:\\Users\\sbens\\Miniconda3\\lib\\site-packages\\ipykernel\\ipkernel.py:287: DeprecationWarning: `should_run_async` will not call `transform_cell` automatically in the future. Please pass the result to `transformed_cell` argument and any exception that happen during thetransform in `preprocessing_exc_tuple` in IPython 7.17 and above.\n",
      "  and should_run_async(code)\n"
     ]
    }
   ],
   "source": [
    "full_stopwords = fr_stop + MyStopwords + MesAjouts + fr_keywords\n",
    "full_stopwords = list(set(full_stopwords))"
   ]
  },
  {
   "cell_type": "code",
   "execution_count": 51,
   "id": "ef2527b0",
   "metadata": {},
   "outputs": [
    {
     "name": "stderr",
     "output_type": "stream",
     "text": [
      "C:\\Users\\sbens\\Miniconda3\\lib\\site-packages\\ipykernel\\ipkernel.py:287: DeprecationWarning: `should_run_async` will not call `transform_cell` automatically in the future. Please pass the result to `transformed_cell` argument and any exception that happen during thetransform in `preprocessing_exc_tuple` in IPython 7.17 and above.\n",
      "  and should_run_async(code)\n"
     ]
    }
   ],
   "source": [
    "def preprocess_tweet_text(tweet):\n",
    "    # Remove urls\n",
    "    tweet = re.sub(r\"http\\S+|www\\S+|https\\S+\", '', tweet, flags=re.MULTILINE)\n",
    "    # Remove user @ references and '#' from tweet\n",
    "    tweet = re.sub(r'\\@\\w+|\\#','', tweet)\n",
    "    # Remove punctuations\n",
    "    remove = string.punctuation\n",
    "    remove = remove.replace(\"#\", \"\") # don't remove hyphens\n",
    "    pattern = r\"[{}]\".format(remove) # create the pattern\n",
    "    tweet = tweet.translate({ord(char): None for char in remove})\n",
    "    tweet = tweet.lower()\n",
    "    # Remove stopwords\n",
    "    tweet_tokens = word_tokenize(tweet)\n",
    "    words = [w for w in tweet_tokens if len(w)>2]\n",
    "    filtered_words = [w for w in words if not w in full_stopwords]\n",
    "    return filtered_words"
   ]
  },
  {
   "cell_type": "code",
   "execution_count": 52,
   "id": "33e386dc",
   "metadata": {},
   "outputs": [
    {
     "name": "stderr",
     "output_type": "stream",
     "text": [
      "C:\\Users\\sbens\\Miniconda3\\lib\\site-packages\\ipykernel\\ipkernel.py:287: DeprecationWarning: `should_run_async` will not call `transform_cell` automatically in the future. Please pass the result to `transformed_cell` argument and any exception that happen during thetransform in `preprocessing_exc_tuple` in IPython 7.17 and above.\n",
      "  and should_run_async(code)\n"
     ]
    }
   ],
   "source": [
    "#def remove_keywords(tweet):\n",
    "#    filtered_words = [w for w in tweet if not w in fr_keywords]\n",
    "#    return filtered_words"
   ]
  },
  {
   "cell_type": "markdown",
   "id": "6c18d2d5",
   "metadata": {},
   "source": [
    "### Topic Modeling over entire dataframe"
   ]
  },
  {
   "cell_type": "code",
   "execution_count": 53,
   "id": "02ef4d69",
   "metadata": {},
   "outputs": [
    {
     "name": "stderr",
     "output_type": "stream",
     "text": [
      "C:\\Users\\sbens\\Miniconda3\\lib\\site-packages\\ipykernel\\ipkernel.py:287: DeprecationWarning: `should_run_async` will not call `transform_cell` automatically in the future. Please pass the result to `transformed_cell` argument and any exception that happen during thetransform in `preprocessing_exc_tuple` in IPython 7.17 and above.\n",
      "  and should_run_async(code)\n"
     ]
    }
   ],
   "source": [
    "fr_tweets[\"token_clean\"] = fr_tweets[\"text\"].apply(lambda x: preprocess_tweet_text(x))"
   ]
  },
  {
   "cell_type": "code",
   "execution_count": 54,
   "id": "3f857b48",
   "metadata": {
    "scrolled": true
   },
   "outputs": [
    {
     "name": "stderr",
     "output_type": "stream",
     "text": [
      "C:\\Users\\sbens\\Miniconda3\\lib\\site-packages\\ipykernel\\ipkernel.py:287: DeprecationWarning: `should_run_async` will not call `transform_cell` automatically in the future. Please pass the result to `transformed_cell` argument and any exception that happen during thetransform in `preprocessing_exc_tuple` in IPython 7.17 and above.\n",
      "  and should_run_async(code)\n"
     ]
    }
   ],
   "source": [
    "#fr_tweets[\"no_keyword\"] = fr_tweets[\"token_clean\"].apply(lambda x: remove_keywords(x))"
   ]
  },
  {
   "cell_type": "code",
   "execution_count": 55,
   "id": "fc87429d",
   "metadata": {},
   "outputs": [
    {
     "name": "stderr",
     "output_type": "stream",
     "text": [
      "C:\\Users\\sbens\\Miniconda3\\lib\\site-packages\\ipykernel\\ipkernel.py:287: DeprecationWarning: `should_run_async` will not call `transform_cell` automatically in the future. Please pass the result to `transformed_cell` argument and any exception that happen during thetransform in `preprocessing_exc_tuple` in IPython 7.17 and above.\n",
      "  and should_run_async(code)\n"
     ]
    },
    {
     "name": "stdout",
     "output_type": "stream",
     "text": [
      "Wall time: 40min 37s\n",
      "Parser   : 520 ms\n"
     ]
    }
   ],
   "source": [
    "dictionary_LDA = corpora.Dictionary(fr_tweets[\"token_clean\"])\n",
    "dictionary_LDA.filter_extremes(no_below=500, keep_n=1000)\n",
    "corpus = [dictionary_LDA.doc2bow(list_of_tokens) for list_of_tokens in fr_tweets[\"token_clean\"]]\n",
    "\n",
    "num_topics = 7\n",
    "%time lda_model = models.LdaModel(corpus, num_topics=num_topics, id2word=dictionary_LDA, passes=4, alpha=[0.01]*num_topics, eta=[0.01]*len(dictionary_LDA.keys()))"
   ]
  },
  {
   "cell_type": "code",
   "execution_count": 56,
   "id": "4aedbdc0",
   "metadata": {},
   "outputs": [
    {
     "name": "stderr",
     "output_type": "stream",
     "text": [
      "C:\\Users\\sbens\\Miniconda3\\lib\\site-packages\\ipykernel\\ipkernel.py:287: DeprecationWarning: `should_run_async` will not call `transform_cell` automatically in the future. Please pass the result to `transformed_cell` argument and any exception that happen during thetransform in `preprocessing_exc_tuple` in IPython 7.17 and above.\n",
      "  and should_run_async(code)\n"
     ]
    }
   ],
   "source": [
    "lda_model.save('lda_modelouai5')"
   ]
  },
  {
   "cell_type": "code",
   "execution_count": 57,
   "id": "9d05cf21",
   "metadata": {},
   "outputs": [
    {
     "name": "stderr",
     "output_type": "stream",
     "text": [
      "C:\\Users\\sbens\\Miniconda3\\lib\\site-packages\\ipykernel\\ipkernel.py:287: DeprecationWarning: `should_run_async` will not call `transform_cell` automatically in the future. Please pass the result to `transformed_cell` argument and any exception that happen during thetransform in `preprocessing_exc_tuple` in IPython 7.17 and above.\n",
      "  and should_run_async(code)\n"
     ]
    }
   ],
   "source": [
    "fr_tweets[\"TOPIC_PCT\"] = fr_tweets[\"token_clean\"].apply(lambda x: lda_model[dictionary_LDA.doc2bow(x)])"
   ]
  },
  {
   "cell_type": "code",
   "execution_count": 58,
   "id": "d8429013",
   "metadata": {},
   "outputs": [
    {
     "name": "stderr",
     "output_type": "stream",
     "text": [
      "C:\\Users\\sbens\\Miniconda3\\lib\\site-packages\\ipykernel\\ipkernel.py:287: DeprecationWarning: `should_run_async` will not call `transform_cell` automatically in the future. Please pass the result to `transformed_cell` argument and any exception that happen during thetransform in `preprocessing_exc_tuple` in IPython 7.17 and above.\n",
      "  and should_run_async(code)\n"
     ]
    }
   ],
   "source": [
    "f = open(\"corpus5.txt\",\"w\")\n",
    "f.write( str(corpus) )\n",
    "f.close()"
   ]
  },
  {
   "cell_type": "code",
   "execution_count": 59,
   "id": "1c9f290c",
   "metadata": {
    "scrolled": true
   },
   "outputs": [
    {
     "name": "stderr",
     "output_type": "stream",
     "text": [
      "C:\\Users\\sbens\\Miniconda3\\lib\\site-packages\\ipykernel\\ipkernel.py:287: DeprecationWarning: `should_run_async` will not call `transform_cell` automatically in the future. Please pass the result to `transformed_cell` argument and any exception that happen during thetransform in `preprocessing_exc_tuple` in IPython 7.17 and above.\n",
      "  and should_run_async(code)\n"
     ]
    },
    {
     "name": "stdout",
     "output_type": "stream",
     "text": [
      "0: 0.134*\"cas\" + 0.126*\"france\" + 0.060*\"décès\" + 0.053*\"ans\" + 0.052*\"centre\" + 0.027*\"patients\" + 0.023*\"chiffres\" + 0.022*\"baisse\" + 0.018*\"annonce\" + 0.016*\"population\"\n",
      "\n",
      "1: 0.130*\"vaccin\" + 0.051*\"pandémie\" + 0.036*\"macron\" + 0.033*\"mois\" + 0.033*\"demain\" + 0.031*\"gouvernement\" + 0.021*\"confinement\" + 0.020*\"partir\" + 0.019*\"taux\" + 0.015*\"nouvelles\"\n",
      "\n",
      "2: 0.047*\"faut\" + 0.038*\"nouvelle\" + 0.037*\"enfants\" + 0.030*\"face\" + 0.028*\"mesures\" + 0.024*\"bonne\" + 0.020*\"mieux\" + 0.019*\"allez\" + 0.016*\"peur\" + 0.016*\"question\"\n",
      "\n",
      "3: 0.101*\"vaccins\" + 0.091*\"mai\" + 0.050*\"jour\" + 0.035*\"situation\" + 0.032*\"point\" + 0.029*\"aujourdhui\" + 0.026*\"2020\" + 0.019*\"risque\" + 0.019*\"cause\" + 0.018*\"veut\"\n",
      "\n",
      "4: 0.084*\"monde\" + 0.062*\"sanitaire\" + 0.052*\"crise\" + 0.049*\"morts\" + 0.044*\"nombre\" + 0.038*\"fin\" + 0.038*\"masque\" + 0.029*\"jours\" + 0.025*\"bilan\" + 0.024*\"disponible\"\n",
      "\n",
      "5: 0.045*\"millions\" + 0.043*\"virus\" + 0.042*\"temps\" + 0.041*\"pays\" + 0.033*\"direct\" + 0.030*\"québec\" + 0.029*\"vie\" + 0.025*\"tests\" + 0.024*\"reçu\" + 0.023*\"la…\"\n",
      "\n",
      "6: 0.056*\"santé\" + 0.044*\"inde\" + 0.043*\"français\" + 0.035*\"dose\" + 0.023*\"jamais\" + 0.023*\"semaine\" + 0.023*\"test\" + 0.020*\"voir\" + 0.018*\"quon\" + 0.016*\"prendre\"\n",
      "\n"
     ]
    }
   ],
   "source": [
    "for i,topic in lda_model.show_topics(formatted=True, num_topics=num_topics, num_words=10):\n",
    "    print(str(i)+\": \"+ topic)\n",
    "    print()"
   ]
  },
  {
   "cell_type": "code",
   "execution_count": 60,
   "id": "f9765709",
   "metadata": {
    "scrolled": true
   },
   "outputs": [
    {
     "name": "stderr",
     "output_type": "stream",
     "text": [
      "C:\\Users\\sbens\\Miniconda3\\lib\\site-packages\\ipykernel\\ipkernel.py:287: DeprecationWarning: `should_run_async` will not call `transform_cell` automatically in the future. Please pass the result to `transformed_cell` argument and any exception that happen during thetransform in `preprocessing_exc_tuple` in IPython 7.17 and above.\n",
      "  and should_run_async(code)\n"
     ]
    }
   ],
   "source": [
    "%matplotlib inline\n",
    "import pyLDAvis\n",
    "import pyLDAvis.gensim_models"
   ]
  },
  {
   "cell_type": "code",
   "execution_count": 43,
   "id": "16da62ed",
   "metadata": {
    "scrolled": true
   },
   "outputs": [
    {
     "name": "stderr",
     "output_type": "stream",
     "text": [
      "C:\\Users\\sbens\\Miniconda3\\lib\\site-packages\\ipykernel\\ipkernel.py:287: DeprecationWarning: `should_run_async` will not call `transform_cell` automatically in the future. Please pass the result to `transformed_cell` argument and any exception that happen during thetransform in `preprocessing_exc_tuple` in IPython 7.17 and above.\n",
      "  and should_run_async(code)\n"
     ]
    },
    {
     "data": {
      "text/html": [
       "<div>\n",
       "<style scoped>\n",
       "    .dataframe tbody tr th:only-of-type {\n",
       "        vertical-align: middle;\n",
       "    }\n",
       "\n",
       "    .dataframe tbody tr th {\n",
       "        vertical-align: top;\n",
       "    }\n",
       "\n",
       "    .dataframe thead th {\n",
       "        text-align: right;\n",
       "    }\n",
       "</style>\n",
       "<table border=\"1\" class=\"dataframe\">\n",
       "  <thead>\n",
       "    <tr style=\"text-align: right;\">\n",
       "      <th></th>\n",
       "      <th>created_at</th>\n",
       "      <th>text</th>\n",
       "      <th>in_reply_to_screen_name</th>\n",
       "      <th>retweet_count</th>\n",
       "      <th>favorite_count</th>\n",
       "      <th>source</th>\n",
       "      <th>id_str</th>\n",
       "      <th>is_retweet</th>\n",
       "      <th>token_clean</th>\n",
       "      <th>TOPIC_PCT</th>\n",
       "    </tr>\n",
       "  </thead>\n",
       "  <tbody>\n",
       "    <tr>\n",
       "      <th>0</th>\n",
       "      <td>2020-01-23 12:42:37+00:00</td>\n",
       "      <td>Nouveau coronavirus: les habitudes alimentaire...</td>\n",
       "      <td>None</td>\n",
       "      <td>0</td>\n",
       "      <td>0</td>\n",
       "      <td>Twitter for iPhone</td>\n",
       "      <td>1220325966611931136</td>\n",
       "      <td>False</td>\n",
       "      <td>[habitudes, alimentaires, chinois, cause]</td>\n",
       "      <td>[(1, 0.48792508), (3, 0.48791972)]</td>\n",
       "    </tr>\n",
       "    <tr>\n",
       "      <th>1</th>\n",
       "      <td>2020-01-23 04:24:45+00:00</td>\n",
       "      <td>@QuickTake #coronavirus usual suspect, the #sn...</td>\n",
       "      <td>Quicktake</td>\n",
       "      <td>1</td>\n",
       "      <td>1</td>\n",
       "      <td>Twitter Web App</td>\n",
       "      <td>1220200674375368704</td>\n",
       "      <td>False</td>\n",
       "      <td>[usual, suspect, the, snake, like, the, bible,...</td>\n",
       "      <td>[(1, 0.9710142)]</td>\n",
       "    </tr>\n",
       "    <tr>\n",
       "      <th>2</th>\n",
       "      <td>2020-01-23 11:07:49+00:00</td>\n",
       "      <td>J’arrête pas de tousser #coronavirus</td>\n",
       "      <td>None</td>\n",
       "      <td>0</td>\n",
       "      <td>0</td>\n",
       "      <td>Twitter for iPhone</td>\n",
       "      <td>1220302109427539968</td>\n",
       "      <td>False</td>\n",
       "      <td>[arrête, tousser]</td>\n",
       "      <td>[(1, 0.9439222)]</td>\n",
       "    </tr>\n",
       "    <tr>\n",
       "      <th>3</th>\n",
       "      <td>2020-01-23 06:21:11+00:00</td>\n",
       "      <td>Coronavirus chinois : plus mystérieux que la p...</td>\n",
       "      <td>None</td>\n",
       "      <td>0</td>\n",
       "      <td>0</td>\n",
       "      <td>Twitter Web App</td>\n",
       "      <td>1220229975787425792</td>\n",
       "      <td>False</td>\n",
       "      <td>[chinois, mystérieux, peste, paludisme, choléra]</td>\n",
       "      <td>[(3, 0.94392467)]</td>\n",
       "    </tr>\n",
       "    <tr>\n",
       "      <th>4</th>\n",
       "      <td>2020-01-23 00:47:26+00:00</td>\n",
       "      <td>Faut-il s’inquiéter d’une éventuelle mutation ...</td>\n",
       "      <td>None</td>\n",
       "      <td>0</td>\n",
       "      <td>0</td>\n",
       "      <td>Twitter Web App</td>\n",
       "      <td>1220145984866594816</td>\n",
       "      <td>False</td>\n",
       "      <td>[fautil, inquiéter, éventuelle, mutation]</td>\n",
       "      <td>[(5, 0.94392365)]</td>\n",
       "    </tr>\n",
       "    <tr>\n",
       "      <th>...</th>\n",
       "      <td>...</td>\n",
       "      <td>...</td>\n",
       "      <td>...</td>\n",
       "      <td>...</td>\n",
       "      <td>...</td>\n",
       "      <td>...</td>\n",
       "      <td>...</td>\n",
       "      <td>...</td>\n",
       "      <td>...</td>\n",
       "      <td>...</td>\n",
       "    </tr>\n",
       "    <tr>\n",
       "      <th>9047061</th>\n",
       "      <td>2021-05-23 02:58:18+00:00</td>\n",
       "      <td>Covid-19 : dès le 7 juin, l’Espagne laissera e...</td>\n",
       "      <td>None</td>\n",
       "      <td>0</td>\n",
       "      <td>0</td>\n",
       "      <td>WordPress.com</td>\n",
       "      <td>1396299421520961536</td>\n",
       "      <td>False</td>\n",
       "      <td>[juin, espagne, laissera, entrer, vaccinées, t...</td>\n",
       "      <td>[(0, 0.14285713), (1, 0.14285713), (2, 0.14285...</td>\n",
       "    </tr>\n",
       "    <tr>\n",
       "      <th>9047062</th>\n",
       "      <td>2021-05-23 03:08:26+00:00</td>\n",
       "      <td>« Je suis testé positif aujourd’hui même, ce 2...</td>\n",
       "      <td>None</td>\n",
       "      <td>0</td>\n",
       "      <td>0</td>\n",
       "      <td>Twitter for Android</td>\n",
       "      <td>1396301971519381504</td>\n",
       "      <td>False</td>\n",
       "      <td>[testé, positif, mai, mai, ressentais, malaise...</td>\n",
       "      <td>[(6, 0.98045594)]</td>\n",
       "    </tr>\n",
       "    <tr>\n",
       "      <th>9047063</th>\n",
       "      <td>2021-05-23 03:30:00+00:00</td>\n",
       "      <td>Covid-19 : léger recul de la pandémie dans le ...</td>\n",
       "      <td>None</td>\n",
       "      <td>1</td>\n",
       "      <td>5</td>\n",
       "      <td>TweetDeck</td>\n",
       "      <td>1396307397241606144</td>\n",
       "      <td>False</td>\n",
       "      <td>[léger, recul, pandémie, monde, exception, pac...</td>\n",
       "      <td>[(2, 0.98045594)]</td>\n",
       "    </tr>\n",
       "    <tr>\n",
       "      <th>9047064</th>\n",
       "      <td>2021-05-23 02:58:18+00:00</td>\n",
       "      <td>Le Covid-19 a fait plus d’un million de morts ...</td>\n",
       "      <td>None</td>\n",
       "      <td>0</td>\n",
       "      <td>0</td>\n",
       "      <td>WordPress.com</td>\n",
       "      <td>1396299419600007168</td>\n",
       "      <td>False</td>\n",
       "      <td>[million, morts, amérique, sud, caraïbes, lci]</td>\n",
       "      <td>[(0, 0.32897207), (5, 0.65474063)]</td>\n",
       "    </tr>\n",
       "    <tr>\n",
       "      <th>9047065</th>\n",
       "      <td>2021-05-23 03:02:54+00:00</td>\n",
       "      <td>@christ5lle @TougasMarc @GlinasSylvain1 Tu peu...</td>\n",
       "      <td>christ5lle</td>\n",
       "      <td>0</td>\n",
       "      <td>0</td>\n",
       "      <td>Twitter Web App</td>\n",
       "      <td>1396300579111161856</td>\n",
       "      <td>False</td>\n",
       "      <td>[quils, cancellé, bras, placébo, mois, parti…]</td>\n",
       "      <td>[(2, 0.48792645), (3, 0.48791856)]</td>\n",
       "    </tr>\n",
       "  </tbody>\n",
       "</table>\n",
       "<p>9047066 rows × 10 columns</p>\n",
       "</div>"
      ],
      "text/plain": [
       "                       created_at  \\\n",
       "0       2020-01-23 12:42:37+00:00   \n",
       "1       2020-01-23 04:24:45+00:00   \n",
       "2       2020-01-23 11:07:49+00:00   \n",
       "3       2020-01-23 06:21:11+00:00   \n",
       "4       2020-01-23 00:47:26+00:00   \n",
       "...                           ...   \n",
       "9047061 2021-05-23 02:58:18+00:00   \n",
       "9047062 2021-05-23 03:08:26+00:00   \n",
       "9047063 2021-05-23 03:30:00+00:00   \n",
       "9047064 2021-05-23 02:58:18+00:00   \n",
       "9047065 2021-05-23 03:02:54+00:00   \n",
       "\n",
       "                                                      text  \\\n",
       "0        Nouveau coronavirus: les habitudes alimentaire...   \n",
       "1        @QuickTake #coronavirus usual suspect, the #sn...   \n",
       "2                     J’arrête pas de tousser #coronavirus   \n",
       "3        Coronavirus chinois : plus mystérieux que la p...   \n",
       "4        Faut-il s’inquiéter d’une éventuelle mutation ...   \n",
       "...                                                    ...   \n",
       "9047061  Covid-19 : dès le 7 juin, l’Espagne laissera e...   \n",
       "9047062  « Je suis testé positif aujourd’hui même, ce 2...   \n",
       "9047063  Covid-19 : léger recul de la pandémie dans le ...   \n",
       "9047064  Le Covid-19 a fait plus d’un million de morts ...   \n",
       "9047065  @christ5lle @TougasMarc @GlinasSylvain1 Tu peu...   \n",
       "\n",
       "        in_reply_to_screen_name  retweet_count  favorite_count  \\\n",
       "0                          None              0               0   \n",
       "1                     Quicktake              1               1   \n",
       "2                          None              0               0   \n",
       "3                          None              0               0   \n",
       "4                          None              0               0   \n",
       "...                         ...            ...             ...   \n",
       "9047061                    None              0               0   \n",
       "9047062                    None              0               0   \n",
       "9047063                    None              1               5   \n",
       "9047064                    None              0               0   \n",
       "9047065              christ5lle              0               0   \n",
       "\n",
       "                      source               id_str  is_retweet  \\\n",
       "0         Twitter for iPhone  1220325966611931136       False   \n",
       "1            Twitter Web App  1220200674375368704       False   \n",
       "2         Twitter for iPhone  1220302109427539968       False   \n",
       "3            Twitter Web App  1220229975787425792       False   \n",
       "4            Twitter Web App  1220145984866594816       False   \n",
       "...                      ...                  ...         ...   \n",
       "9047061        WordPress.com  1396299421520961536       False   \n",
       "9047062  Twitter for Android  1396301971519381504       False   \n",
       "9047063            TweetDeck  1396307397241606144       False   \n",
       "9047064        WordPress.com  1396299419600007168       False   \n",
       "9047065      Twitter Web App  1396300579111161856       False   \n",
       "\n",
       "                                               token_clean  \\\n",
       "0                [habitudes, alimentaires, chinois, cause]   \n",
       "1        [usual, suspect, the, snake, like, the, bible,...   \n",
       "2                                        [arrête, tousser]   \n",
       "3         [chinois, mystérieux, peste, paludisme, choléra]   \n",
       "4                [fautil, inquiéter, éventuelle, mutation]   \n",
       "...                                                    ...   \n",
       "9047061  [juin, espagne, laissera, entrer, vaccinées, t...   \n",
       "9047062  [testé, positif, mai, mai, ressentais, malaise...   \n",
       "9047063  [léger, recul, pandémie, monde, exception, pac...   \n",
       "9047064     [million, morts, amérique, sud, caraïbes, lci]   \n",
       "9047065     [quils, cancellé, bras, placébo, mois, parti…]   \n",
       "\n",
       "                                                 TOPIC_PCT  \n",
       "0                       [(1, 0.48792508), (3, 0.48791972)]  \n",
       "1                                         [(1, 0.9710142)]  \n",
       "2                                         [(1, 0.9439222)]  \n",
       "3                                        [(3, 0.94392467)]  \n",
       "4                                        [(5, 0.94392365)]  \n",
       "...                                                    ...  \n",
       "9047061  [(0, 0.14285713), (1, 0.14285713), (2, 0.14285...  \n",
       "9047062                                  [(6, 0.98045594)]  \n",
       "9047063                                  [(2, 0.98045594)]  \n",
       "9047064                 [(0, 0.32897207), (5, 0.65474063)]  \n",
       "9047065                 [(2, 0.48792645), (3, 0.48791856)]  \n",
       "\n",
       "[9047066 rows x 10 columns]"
      ]
     },
     "execution_count": 43,
     "metadata": {},
     "output_type": "execute_result"
    }
   ],
   "source": [
    "fr_tweets"
   ]
  },
  {
   "cell_type": "code",
   "execution_count": 61,
   "id": "6c0d44b0",
   "metadata": {
    "scrolled": false
   },
   "outputs": [
    {
     "name": "stderr",
     "output_type": "stream",
     "text": [
      "C:\\Users\\sbens\\Miniconda3\\lib\\site-packages\\ipykernel\\ipkernel.py:287: DeprecationWarning: `should_run_async` will not call `transform_cell` automatically in the future. Please pass the result to `transformed_cell` argument and any exception that happen during thetransform in `preprocessing_exc_tuple` in IPython 7.17 and above.\n",
      "  and should_run_async(code)\n"
     ]
    },
    {
     "name": "stdout",
     "output_type": "stream",
     "text": [
      "[[0, 0.32899582386016846], [1, 0.0], [2, 0.0], [3, 0.0], [4, 0.6547170877456665], [5, 0.0], [6, 0.0]]\n",
      "1\n",
      "[[0, 0.1965841081644922], [1, 0.14614191918629701], [2, 0.13907308645980776], [3, 0.15290226920971423], [4, 0.11109514644728648], [5, 0.10814983137118976], [6, 0.12548383365431173]]\n",
      "2\n",
      "[[0, 0.19252914842063226], [1, 0.13510047467104994], [2, 0.135516407295948], [3, 0.16355245656708725], [4, 0.11021531321452134], [5, 0.12581737228047774], [6, 0.11531880766129851]]\n",
      "3\n",
      "[[0, 0.1782875581275321], [1, 0.14225471836612671], [2, 0.12413125688593962], [3, 0.19078071560799745], [4, 0.1260651938189956], [5, 0.11357974755043788], [6, 0.10278858959663129]]\n",
      "4\n",
      "[[0, 0.17997022787823336], [1, 0.14573906916340804], [2, 0.12589855794694294], [3, 0.18069263478556014], [4, 0.13934844244774544], [5, 0.1003680651606054], [6, 0.10612150741422223]]\n",
      "5\n",
      "[[0, 0.18623123296948565], [1, 0.16081980941087456], [2, 0.12408240906956187], [3, 0.16963973914378125], [4, 0.12588214108957893], [5, 0.10450123965111034], [6, 0.1070707479047159]]\n",
      "6\n",
      "[[0, 0.17140999124548906], [1, 0.15155081705358023], [2, 0.14947914170808013], [3, 0.1455058061355674], [4, 0.1122072368150864], [5, 0.11901799743265111], [6, 0.12796064250185576]]\n",
      "7\n",
      "[[0, 0.16652815109961983], [1, 0.13903051859715768], [2, 0.15410971026954434], [3, 0.14880013781863607], [4, 0.11893266371244761], [5, 0.11652034741870969], [6, 0.13250514516254436]]\n",
      "8\n",
      "[[0, 0.13993935491994894], [1, 0.16161895042724528], [2, 0.1546885432760972], [3, 0.13330578931510798], [4, 0.11977821389509521], [5, 0.12619204441643114], [6, 0.14087941581603963]]\n",
      "9\n",
      "[[0, 0.12522272666927528], [1, 0.17802132478595312], [2, 0.1543921276173764], [3, 0.12545992108551846], [4, 0.11999777193111234], [5, 0.13260931366446974], [6, 0.14073881639675986]]\n",
      "10\n",
      "[[0, 0.13238517695259017], [1, 0.176057682109521], [2, 0.14812347925030878], [3, 0.12429036028548147], [4, 0.12908764631858974], [5, 0.12792043200250303], [6, 0.13854434393763726]]\n",
      "11\n",
      "[[0, 0.13585643310312304], [1, 0.1737645983185318], [2, 0.14358239481351703], [3, 0.12827398253536695], [4, 0.13515864588449814], [5, 0.12845397834543248], [6, 0.13152851632977658]]\n",
      "12\n",
      "[[0, 0.13254918018736497], [1, 0.17605315371055472], [2, 0.14341268350339195], [3, 0.12770161105770264], [4, 0.13747403544238146], [5, 0.1262113265515738], [6, 0.1332954621140455]]\n",
      "13\n",
      "[[0, 0.1329838746464859], [1, 0.17937525671915278], [2, 0.1372146778704714], [3, 0.1361038444211099], [4, 0.13268123897272807], [5, 0.12685541927573007], [6, 0.13138526408500478]]\n",
      "14\n",
      "[[0, 0.13676706420434473], [1, 0.17590078737116296], [2, 0.13881501709337296], [3, 0.13168645734923828], [4, 0.13234184811661895], [5, 0.1261661293096381], [6, 0.134685260154222]]\n",
      "15\n",
      "[[0, 0.13588503963764362], [1, 0.16739518522989835], [2, 0.14221225855732314], [3, 0.13777666610591918], [4, 0.13268101025542808], [5, 0.12596212527218947], [6, 0.13480128345083123]]\n",
      "16\n",
      "[[0, 0.13867295808379934], [1, 0.16879056419663024], [2, 0.13504090777868902], [3, 0.13968109555876307], [4, 0.13560291078013537], [5, 0.12584226116941089], [6, 0.13321000885094833]]\n",
      "17\n",
      "[[0, 0.13979157171358284], [1, 0.16696348986526569], [2, 0.1384252367195272], [3, 0.1330499013588822], [4, 0.13916193675837957], [5, 0.1248487229458173], [6, 0.13441951012711892]]\n",
      "18\n",
      "[[0, 0.1483347371256648], [1, 0.16420882650999713], [2, 0.13162777850120097], [3, 0.13574817519200996], [4, 0.14184308303533305], [5, 0.12260337184396689], [6, 0.13242932961017795]]\n",
      "19\n",
      "[[0, 0.14943549600537703], [1, 0.16011320268875925], [2, 0.1341512514448971], [3, 0.13286588098279375], [4, 0.1420026596880797], [5, 0.1220585298641309], [6, 0.13591310227664666]]\n",
      "20\n",
      "[[0, 0.14684165849406478], [1, 0.16300358316309735], [2, 0.1374657076244807], [3, 0.13093767052326546], [4, 0.14724428678647772], [5, 0.12133261969138304], [6, 0.13004260766793788]]\n",
      "21\n",
      "[[0, 0.15327236074072206], [1, 0.16723928893451467], [2, 0.1303559131868244], [3, 0.13195680152572264], [4, 0.148365669630496], [5, 0.12142594038931809], [6, 0.12468655782166324]]\n",
      "22\n",
      "[[0, 0.15727814316109415], [1, 0.16560896978314746], [2, 0.128975929089634], [3, 0.13647166242795725], [4, 0.14223608432850132], [5, 0.11924267574827598], [6, 0.12740336472443178]]\n",
      "23\n",
      "[[0, 0.14972093654188542], [1, 0.15928511742360846], [2, 0.1301043026990804], [3, 0.14093952337108048], [4, 0.14395107268562835], [5, 0.1232740574421505], [6, 0.12956997941360235]]\n",
      "24\n",
      "[[0, 0.14991065159170475], [1, 0.16105663190871516], [2, 0.13515530988137164], [3, 0.1383461619537667], [4, 0.14385721479017308], [5, 0.12346010926825228], [6, 0.12549901170267835]]\n",
      "25\n",
      "[[0, 0.15358422549046039], [1, 0.15958308171794452], [2, 0.13211840881208675], [3, 0.13486489000744523], [4, 0.14252956676420542], [5, 0.12593918490610465], [6, 0.1288211810578578]]\n",
      "26\n",
      "[[0, 0.14631004832020839], [1, 0.16192831142206757], [2, 0.13067555166745382], [3, 0.13232034743763427], [4, 0.152000937425845], [5, 0.12218989644038906], [6, 0.13216690191126523]]\n",
      "27\n",
      "[[0, 0.15119037238540944], [1, 0.15738204316761376], [2, 0.13179070572958806], [3, 0.13704630231664944], [4, 0.14109463265320485], [5, 0.12164511968006128], [6, 0.13739883792225008]]\n",
      "28\n",
      "[[0, 0.1501660225880054], [1, 0.1638439395205118], [2, 0.134584911399266], [3, 0.13339675969532264], [4, 0.14002295667891662], [5, 0.11836298618475184], [6, 0.13700289233735716]]\n",
      "29\n",
      "[[0, 0.15173804645094982], [1, 0.1618703200729179], [2, 0.13149244068571406], [3, 0.12508663966074912], [4, 0.1536884364269737], [5, 0.11799183727709453], [6, 0.13553179749291228]]\n",
      "30\n",
      "[[0, 0.1603300404942577], [1, 0.16120018367931835], [2, 0.12602546762778122], [3, 0.12593925810070902], [4, 0.1487727343880852], [5, 0.1153366398528077], [6, 0.13966202706744726]]\n",
      "31\n",
      "[[0, 0.15319568729774982], [1, 0.16273229978289114], [2, 0.1340190472053522], [3, 0.12128256230694635], [4, 0.1537805551664958], [5, 0.11782100342621003], [6, 0.13431320850160203]]\n",
      "32\n",
      "[[0, 0.1566449197675728], [1, 0.15696556469866876], [2, 0.13164845118334248], [3, 0.12680173615176363], [4, 0.14466761902733463], [5, 0.1240722371217588], [6, 0.13638594238630264]]\n",
      "33\n",
      "[[0, 0.15097285066595373], [1, 0.15702352172138195], [2, 0.13239328969828157], [3, 0.11984181303595166], [4, 0.15092104615692403], [5, 0.12203723557644705], [6, 0.14374955749364537]]\n",
      "34\n",
      "[[0, 0.14455838301584914], [1, 0.16097185831637703], [2, 0.13691599604832272], [3, 0.12332052456961562], [4, 0.14149784901566878], [5, 0.12531037720404872], [6, 0.1446869747197863]]\n",
      "35\n",
      "[[0, 0.14683674196126936], [1, 0.15717442468108983], [2, 0.1371872202946325], [3, 0.13005561113939307], [4, 0.14130992433261236], [5, 0.12739217456861468], [6, 0.1375873142944412]]\n",
      "36\n",
      "[[0, 0.1403916230981228], [1, 0.16096642932564637], [2, 0.1444560850162308], [3, 0.12682725380033621], [4, 0.13166983489276973], [5, 0.1324144590598782], [6, 0.1402778511282318]]\n",
      "37\n",
      "[[0, 0.14130210709670732], [1, 0.1760004133937842], [2, 0.13436503511005735], [3, 0.12551002697906216], [4, 0.13580589070467147], [5, 0.12499471228118289], [6, 0.13967143524853629]]\n",
      "38\n",
      "[[0, 0.14107406624524532], [1, 0.17112621841066047], [2, 0.13732638814798429], [3, 0.1220777020834933], [4, 0.13601769491029608], [5, 0.12671182195567443], [6, 0.14299602863789027]]\n",
      "39\n",
      "[[0, 0.13679030074164367], [1, 0.17573820048549127], [2, 0.14299160558571547], [3, 0.1190400331305722], [4, 0.1353685350851499], [5, 0.12427717789060234], [6, 0.14253185233501103]]\n",
      "40\n",
      "[[0, 0.14226541645536958], [1, 0.16812474504954816], [2, 0.1434299665120454], [3, 0.11998245835759004], [4, 0.13244399163329545], [5, 0.12594848160018826], [6, 0.14460163182486666]]\n",
      "41\n",
      "[[0, 0.12968164189931466], [1, 0.1825690240462611], [2, 0.15050752965020683], [3, 0.11281610844232601], [4, 0.12694583196173742], [5, 0.12666001465543447], [6, 0.14751875020986682]]\n",
      "42\n",
      "[[0, 0.13805608905769184], [1, 0.17399965235541656], [2, 0.14389139048877092], [3, 0.11382612515470855], [4, 0.13057511899848745], [5, 0.1295620225800525], [6, 0.14666780847279906]]\n",
      "43\n",
      "[[0, 0.1378030724896506], [1, 0.1823092818966579], [2, 0.137072620983781], [3, 0.12124777693500308], [4, 0.1239977145709703], [5, 0.13070818154226654], [6, 0.14352683796531163]]\n",
      "44\n",
      "[[0, 0.1392686480968237], [1, 0.18601127821505697], [2, 0.13556523974723494], [3, 0.12736021930858432], [4, 0.12551364888118485], [5, 0.1250884901405324], [6, 0.138031113837709]]\n",
      "45\n"
     ]
    },
    {
     "name": "stdout",
     "output_type": "stream",
     "text": [
      "[[0, 0.13804238157918963], [1, 0.18679674781789365], [2, 0.13012540666836805], [3, 0.13722231520740885], [4, 0.12108430186431685], [5, 0.1285225011456675], [6, 0.13493055067699122]]\n",
      "46\n",
      "[[0, 0.14079170161884602], [1, 0.18555377544353668], [2, 0.1253524544807225], [3, 0.13797877675388723], [4, 0.12280658147980864], [5, 0.12576648376891703], [6, 0.13867566256047983]]\n",
      "47\n",
      "[[0, 0.13499882977894506], [1, 0.1806683947716241], [2, 0.12852084322201934], [3, 0.13410267822434518], [4, 0.12286762804483178], [5, 0.13312078633266303], [6, 0.1428018876650401]]\n",
      "48\n",
      "[[0, 0.13048476190193176], [1, 0.1889670098315743], [2, 0.1383663828883996], [3, 0.13023949474572355], [4, 0.11528162273766522], [5, 0.13149871966059917], [6, 0.14223082771790932]]\n",
      "49\n",
      "[[0, 0.14055412248284652], [1, 0.17891554129756815], [2, 0.14187314084520786], [3, 0.13077300499189812], [4, 0.11415851791849559], [5, 0.13234504040863274], [6, 0.1381045932099149]]\n",
      "50\n",
      "[[0, 0.1464969464816824], [1, 0.1821872519985242], [2, 0.13458023044001236], [3, 0.12277840501662371], [4, 0.12250107781963544], [5, 0.12650583277321248], [6, 0.14162159920125328]]\n",
      "51\n",
      "[[0, 0.1494148887287885], [1, 0.17953615470631756], [2, 0.1324035318796818], [3, 0.12598552781941172], [4, 0.11771135783834398], [5, 0.12329351817167186], [6, 0.14817655353861825]]\n",
      "52\n",
      "[[0, 0.1443663159009203], [1, 0.17638429351854057], [2, 0.1319441793907491], [3, 0.12847559670280947], [4, 0.11947758720095578], [5, 0.1297735472902873], [6, 0.14613204895401813]]\n",
      "53\n",
      "[[0, 0.1454933241195369], [1, 0.17281688249418206], [2, 0.1335505498498488], [3, 0.1360938813751245], [4, 0.1215203943852416], [5, 0.12304892191890962], [6, 0.14396622992545574]]\n",
      "54\n",
      "[[0, 0.13310769310376822], [1, 0.1814381232345606], [2, 0.13467950041969992], [3, 0.13090126746739486], [4, 0.11913311118936859], [5, 0.12497634062478506], [6, 0.15227606483599232]]\n",
      "55\n",
      "[[0, 0.14053649580654182], [1, 0.17780225551513956], [2, 0.13496193414810298], [3, 0.13891516574960044], [4, 0.11683635100779495], [5, 0.12375700786366693], [6, 0.14408327420451822]]\n",
      "56\n",
      "[[0, 0.14723986842708903], [1, 0.16646254765435758], [2, 0.13265054611728827], [3, 0.14378475434655957], [4, 0.12212131228272309], [5, 0.12431814055192639], [6, 0.14035539848559653]]\n",
      "57\n",
      "[[0, 0.14418006421356291], [1, 0.16642134785663695], [2, 0.13387100733076518], [3, 0.14092362187745472], [4, 0.12677655505391347], [5, 0.12641909570816978], [6, 0.13804695867769512]]\n",
      "58\n",
      "[[0, 0.14205292004342482], [1, 0.1772056947439468], [2, 0.13266859889475338], [3, 0.1380647604624201], [4, 0.12278329754209183], [5, 0.12476317017895551], [6, 0.13931810087104074]]\n",
      "59\n",
      "[[0, 0.14552143125790287], [1, 0.17435860466983372], [2, 0.1286557810939287], [3, 0.13724144301938762], [4, 0.1255875235140622], [5, 0.1264792133877249], [6, 0.13899503907548938]]\n",
      "60\n",
      "[[0, 0.14541719469593978], [1, 0.17613107276032738], [2, 0.12667954420373773], [3, 0.1363898288458441], [4, 0.12647229280360262], [5, 0.1274434597780461], [6, 0.13792750829206268]]\n",
      "61\n",
      "[[0, 0.13420104702741478], [1, 0.19063996517652154], [2, 0.13044844124003896], [3, 0.12551313623816587], [4, 0.12140976964101716], [5, 0.1268342285800197], [6, 0.14743508154357302]]\n",
      "62\n",
      "[[0, 0.13698361909579765], [1, 0.1763095564168005], [2, 0.1361503571301786], [3, 0.1286343251871218], [4, 0.12503577798977206], [5, 0.12420370744453622], [6, 0.14924717080548708]]\n",
      "63\n",
      "[[0, 0.13464750114691726], [1, 0.18046385124010852], [2, 0.13713410799539177], [3, 0.12741950137802135], [4, 0.12512942175660782], [5, 0.1243923985954193], [6, 0.14775839623312834]]\n",
      "64\n",
      "[[0, 0.14918594552210362], [1, 0.16615972700595755], [2, 0.12894071509130495], [3, 0.1332663276722663], [4, 0.12683904042817112], [5, 0.13157344883486732], [6, 0.14047851102795203]]\n",
      "65\n",
      "[[0, 0.1467307421358579], [1, 0.17151402414814987], [2, 0.1265472228376134], [3, 0.13878627946165611], [4, 0.13196599153880006], [5, 0.12154939651363804], [6, 0.1395225090545278]]\n",
      "66\n",
      "[[0, 0.14473395373780348], [1, 0.1614476397174632], [2, 0.1336664262739506], [3, 0.13274248077656112], [4, 0.13031216385094274], [5, 0.12393359663353785], [6, 0.1498513412664997]]\n",
      "67\n",
      "[[0, 0.13973121634925187], [1, 0.16429428474572805], [2, 0.1360725863207453], [3, 0.12574526815891557], [4, 0.13456327755970482], [5, 0.12031136762389633], [6, 0.15580483693125385]]\n",
      "68\n",
      "[[0, 0.13994675289013359], [1, 0.16420422150577418], [2, 0.13559427615919958], [3, 0.14837141611410065], [4, 0.12045225481389907], [5, 0.12080235471644898], [6, 0.14749974452591277]]\n",
      "69\n",
      "[[0, 0.1526185719612264], [1, 0.1627452056632494], [2, 0.12794939881483933], [3, 0.1467100251821824], [4, 0.12736597712655703], [5, 0.12076595192687742], [6, 0.13859135309098586]]\n",
      "70\n",
      "[[0, 0.14971951613654366], [1, 0.16572011679718773], [2, 0.12709971786684018], [3, 0.1421709051987247], [4, 0.13008666618509715], [5, 0.11973834973725732], [6, 0.14239957304826287]]\n",
      "71\n"
     ]
    }
   ],
   "source": [
    "start_date = datetime.date(2020,1,12)\n",
    "end_date = datetime.date(2021,5,23)\n",
    "range_time = (end_date-start_date).days//7\n",
    "topic = [[[i,0] for i in range(7)] for k in range(range_time)]\n",
    "current_date = start_date\n",
    "week = 0\n",
    "while current_date<end_date:\n",
    "    total = 0\n",
    "    for j in range(len(fr_tweets)):\n",
    "        if (fr_tweets[\"created_at\"].iloc[j] >= current_date) and (fr_tweets[\"created_at\"].iloc[j] <= current_date+datetime.timedelta(7)):\n",
    "            total+=1\n",
    "            for k in fr_tweets[\"TOPIC_PCT\"].iloc[j]:\n",
    "                topic[week][k[0]][1]+=k[1]\n",
    "    for t in topic[week]:\n",
    "        if total !=0:\n",
    "            t[1] = t[1]/total\n",
    "        else:\n",
    "            t[1] = 0\n",
    "    print(topic[week])\n",
    "    week+=1\n",
    "    print(week)\n",
    "    current_date=current_date+datetime.timedelta(7)"
   ]
  },
  {
   "cell_type": "code",
   "execution_count": 113,
   "id": "5c8e5e5c",
   "metadata": {
    "scrolled": false
   },
   "outputs": [
    {
     "name": "stderr",
     "output_type": "stream",
     "text": [
      "C:\\Users\\sbens\\Miniconda3\\lib\\site-packages\\ipykernel\\ipkernel.py:287: DeprecationWarning: `should_run_async` will not call `transform_cell` automatically in the future. Please pass the result to `transformed_cell` argument and any exception that happen during thetransform in `preprocessing_exc_tuple` in IPython 7.17 and above.\n",
      "  and should_run_async(code)\n"
     ]
    },
    {
     "data": {
      "text/html": [
       "\n",
       "<link rel=\"stylesheet\" type=\"text/css\" href=\"https://cdn.jsdelivr.net/gh/bmabey/pyLDAvis@3.3.1/pyLDAvis/js/ldavis.v1.0.0.css\">\n",
       "\n",
       "\n",
       "<div id=\"ldavis_el2282020868928814807590620365\"></div>\n",
       "<script type=\"text/javascript\">\n",
       "\n",
       "var ldavis_el2282020868928814807590620365_data = {\"mdsDat\": {\"x\": [-0.16455592840100178, -0.25319261374638385, -0.18008767855025937, 0.21311538259710536, 0.15035981116823952, -0.010433028872760288, 0.24479405580506045], \"y\": [-0.2069169232088971, -0.040239246272130554, 0.36719602427231196, 0.12038595554926092, 0.004778334622565131, -0.21760912245201783, -0.027595022511092828], \"topics\": [1, 2, 3, 4, 5, 6, 7], \"cluster\": [1, 1, 1, 1, 1, 1, 1], \"Freq\": [17.653888968644974, 15.527245474630153, 13.784896822294227, 13.774510738959812, 13.706027667230119, 13.475002461398539, 12.078427866842183]}, \"tinfo\": {\"Term\": [\"vaccin\", \"cas\", \"france\", \"vaccins\", \"mai\", \"monde\", \"d\\u00e9c\\u00e8s\", \"sanitaire\", \"pand\\u00e9mie\", \"sant\\u00e9\", \"ans\", \"centre\", \"crise\", \"jour\", \"morts\", \"faut\", \"nombre\", \"inde\", \"fran\\u00e7ais\", \"millions\", \"macron\", \"temps\", \"virus\", \"fin\", \"masque\", \"nouvelle\", \"mois\", \"demain\", \"enfants\", \"pays\", \"vaccin\", \"pand\\u00e9mie\", \"macron\", \"mois\", \"demain\", \"gouvernement\", \"confinement\", \"partir\", \"taux\", \"nouvelles\", \"grand\", \"ministre\", \"lundi\", \"coup\", \"heures\", \"emmanuel\", \"gestion\", \"petit\", \"ann\\u00e9e\", \"pouvoir\", \"semaines\", \"besoin\", \"lutte\", \"mis\", \"ville\", \"rappel\", \"part\", \"mondiale\", \"port\", \"actuellement\", \"dune\", \"cas\", \"france\", \"d\\u00e9c\\u00e8s\", \"ans\", \"centre\", \"patients\", \"chiffres\", \"baisse\", \"annonce\", \"population\", \"paris\", \"politique\", \"laboratoire\", \"confirm\\u00e9s\", \"cours\", \"wuhan\", \"rdc\", \"vid\\u00e9o\", \"1er\", \"vivre\", \"total\", \"lieu\", \"d\\u00e9tect\\u00e9\", \"c\\u00e9tait\", \"dimanche\", \"r\\u00e9gion\", \"derniers\", \"franceinfo\", \"long\", \"probl\\u00e8me\", \"sant\\u00e9\", \"inde\", \"fran\\u00e7ais\", \"dose\", \"jamais\", \"semaine\", \"test\", \"voir\", \"quon\", \"prendre\", \"jeunes\", \"24h\", \"mal\", \"donn\\u00e9es\", \"mercredi\", \"belgique\", \"compte\", \"travail\", \"lire\", \"veulent\", \"vite\", \"\\u00e9coles\", \"plan\", \"positif\", \"sociale\", \"nationale\", \"et\\u2026\", \"matin\", \"site\", \"traitement\", \"suite\", \"monde\", \"sanitaire\", \"crise\", \"morts\", \"nombre\", \"fin\", \"masque\", \"jours\", \"bilan\", \"disponible\", \"passe\", \"mort\", \"flash\", \"100\", \"malades\", \"ligne\", \"moment\", \"oms\", \"conseil\", \"\\u00e9conomique\", \"feu\", \"contaminations\", \"partout\", \"merde\", \"alerte\", \"h\\u00f4pital\", \"prot\\u00e9ger\", \"en\\u2026\", \"des\\u2026\", \"f\\u00eate\", \"pays\", \"vaccins\", \"mai\", \"jour\", \"situation\", \"point\", \"aujourdhui\", \"2020\", \"risque\", \"cause\", \"veut\", \"m\\u00e9decins\", \"scientifiques\", \"raison\", \"mise\", \"samedi\", \"pr\\u00e9sident\", \"chine\", \"l\\u00e9pid\\u00e9mie\", \"effets\", \"restrictions\", \"info\", \"europe\", \"canada\", \"demande\", \"sanitaires\", \"masques\", \"continue\", \"derni\\u00e8res\", \"\\u00e9tatsunis\", \"vient\", \"de\\u2026\", \"pays\", \"faut\", \"nouvelle\", \"enfants\", \"face\", \"mesures\", \"bonne\", \"mieux\", \"allez\", \"peur\", \"question\", \"place\", \"afrique\", \"article\", \"maladie\", \"journ\\u00e9e\", \"vendredi\", \"loms\", \"sortie\", \"questions\", \"gr\\u00e2ce\", \"passer\", \"scientifique\", \"important\", \"h\\u00f4pitaux\", \"droit\", \"pris\", \"sortir\", \"lyon\", \"chose\", \"du\\u2026\", \"\\u00e9pid\\u00e9mie\", \"virus\", \"millions\", \"temps\", \"qu\\u00e9bec\", \"vie\", \"tests\", \"re\\u00e7u\", \"la\\u2026\", \"presse\", \"rapport\", \"savoir\", \"vrai\", \"mettre\", \"rendezvous\", \"the\", \"soir\", \"hier\", \"partie\", \"grave\", \"bonjour\", \"genre\", \"service\", \"m\\u00e9dias\", \"esp\\u00e8re\", \"r\\u00e9ponse\", \"r\\u00e9sultats\", \"met\", \"sais\", \"lon\", \"allemagne\", \"enqu\\u00eate\", \"virus\", \"direct\", \"pays\"], \"Freq\": [545646.0, 493109.0, 466115.0, 329233.0, 297224.0, 273723.0, 220189.0, 202229.0, 214920.0, 184422.0, 194242.0, 193246.0, 170950.0, 162171.0, 160385.0, 151380.0, 144940.0, 143452.0, 140967.0, 130298.0, 152420.0, 121696.0, 159148.0, 124353.0, 122818.0, 121111.0, 139890.0, 139010.0, 117347.0, 206355.0, 545646.7863279404, 214920.51528214145, 152420.62458055443, 139890.88357581728, 139010.4951718498, 131984.04089700236, 89772.36478132593, 85027.03754061392, 81618.80526554852, 64717.7411861045, 63994.5912196243, 57125.28165079947, 56977.998275957296, 56931.343439410186, 54545.52617017668, 48516.198933084575, 46756.45707673884, 44276.48655122894, 44021.712713781206, 42324.85295380623, 40838.94757153861, 39301.6304808911, 39068.41097484328, 38550.23219424138, 36241.49733827844, 36166.363758377775, 34705.36360737258, 34208.43453091037, 34116.612844818024, 33742.960171805455, 51066.44462424228, 493109.30494916765, 466115.1712333505, 220189.64797715461, 194242.60193377757, 193246.90203273547, 99439.92683039772, 86528.29584514293, 79457.73009208702, 64649.67737153644, 58881.97711403799, 57610.895779492916, 51248.16909735251, 50280.21721886075, 47938.030611767674, 41523.18106577748, 39309.9963139552, 38798.72577367133, 38525.343516836365, 36745.4511102107, 35324.513965838865, 32364.348187547603, 30942.517940196933, 27646.96279575315, 26639.994339626097, 26311.243133114396, 25961.072912662046, 24351.42997888384, 24112.629699893074, 24013.799267755574, 23643.797008655747, 184422.47975382663, 143452.0334774729, 140967.8246871764, 115472.17931849037, 74386.16688755377, 74377.94527174326, 74251.26651774881, 66402.14845501195, 59716.96844600817, 51483.331266969944, 50467.092589553955, 47637.46005190672, 47097.00469567393, 44172.424083746075, 42456.30511265577, 42407.30781991555, 39790.0710901211, 39298.57948146016, 36122.84009485181, 35642.653207930336, 35508.29261038, 35448.033289750965, 34827.33484122507, 33844.74501724131, 33370.343147082654, 33211.088985043716, 33198.97003058117, 32424.55847191831, 32096.288503845823, 31683.618892163562, 32663.302484742493, 273723.9185467539, 202229.4217070989, 170950.78960090387, 160385.74559193075, 144940.4365914586, 124353.23677863793, 122818.46443394723, 94177.0861790169, 80270.62066673917, 78313.79019342684, 61546.71863359082, 56732.03074403784, 52254.3701535199, 48973.26312878491, 47684.15504081759, 45965.81556688754, 45586.19057695548, 42440.339372247334, 41599.6360496779, 40856.21355436339, 37388.836478017955, 36926.72207592605, 35733.517452291744, 35273.11256479983, 32308.125566959912, 31452.164598040858, 29423.48575531943, 28741.4351388708, 28196.547929150605, 28041.225881599836, 38168.548829609215, 329233.7372347757, 297224.8851621131, 162171.45739545737, 113891.82635655956, 105334.00289736822, 94145.17864685567, 84992.66081072428, 62268.92087345883, 62105.21709533495, 60152.627319479456, 57963.09004510073, 53619.69740152873, 50421.2366717766, 50230.16504217381, 49295.65873491106, 48443.70170268856, 47316.40455778086, 45979.709692605786, 45895.80506307728, 44032.84454599826, 43577.80019515659, 43550.40505466114, 40157.95580264915, 38425.2275688485, 37868.56498462946, 37056.398370638475, 36413.27508567481, 34124.33605248454, 31958.664539128473, 30582.000361057882, 56059.390058437115, 49294.53988523283, 151380.6286352868, 121111.41406894378, 117347.46668755818, 97474.678035036, 90439.5790797225, 77822.58506588421, 62545.46192201936, 59275.782964289225, 52672.13670688381, 51954.602974023015, 51178.65347798145, 48547.81569766985, 46230.50506027203, 45140.95985821436, 44157.0346247859, 43523.270097943845, 43185.06620020201, 41197.776603333776, 38787.0949445873, 38452.948193900425, 38284.10708291879, 38093.11114687288, 36029.67477236177, 35228.65204790044, 35045.47230551956, 34156.52783584218, 34114.129009565375, 33442.49678320885, 32157.54077751643, 31930.477668643194, 49006.07656858696, 35382.59111764199, 130298.51857778728, 121696.8555176614, 85348.859200011, 82757.5128377713, 72954.03226644205, 68472.55963434254, 65518.317151314295, 53234.74893330358, 51494.930681782345, 51127.7004998805, 48639.93873265809, 46213.49511243195, 44990.06073661295, 44021.69734711588, 39316.40866879446, 39072.92100856756, 37863.69390952993, 36518.53707997782, 31560.587602217445, 31090.251121808335, 30514.157671730194, 29474.648344377, 29375.630278609166, 29134.89215530309, 28108.053677394564, 27816.4344247917, 27510.330002463073, 27460.231783096122, 26394.27987326624, 26054.34198495947, 123765.53334837985, 93532.10633551843, 118892.54162222074], \"Total\": [545646.0, 493109.0, 466115.0, 329233.0, 297224.0, 273723.0, 220189.0, 202229.0, 214920.0, 184422.0, 194242.0, 193246.0, 170950.0, 162171.0, 160385.0, 151380.0, 144940.0, 143452.0, 140967.0, 130298.0, 152420.0, 121696.0, 159148.0, 124353.0, 122818.0, 121111.0, 139890.0, 139010.0, 117347.0, 206355.0, 545646.8628344943, 214920.59178869528, 152420.70108710826, 139890.9600823711, 139010.57167840362, 131984.11740355619, 89772.44128787976, 85027.11404716775, 81618.88177210235, 64717.817692658326, 63994.66772617813, 57125.3581573533, 56978.074782511125, 56931.419945964015, 54545.60267673051, 48516.275439638404, 46756.53358329267, 44276.56305778277, 44021.789220335035, 42324.92946036006, 40839.024078092436, 39301.70698744493, 39068.48748139711, 38550.308700795205, 36241.573844832266, 36166.4402649316, 34705.44011392641, 34208.511037464195, 34116.68935137185, 33743.03667835928, 63150.926329004644, 493109.38228124834, 466115.2485654312, 220189.72530923533, 194242.67926585829, 193246.9793648162, 99440.00416247844, 86528.37317722365, 79457.80742416774, 64649.75470361717, 58882.05444611872, 57610.97311157364, 51248.24642943324, 50280.29455094148, 47938.1079438484, 41523.258397858204, 39310.073646035926, 38798.80310575206, 38525.42084891709, 36745.52844229143, 35324.59129791959, 32364.425519628327, 30942.595272277656, 27647.040127833872, 26640.07167170682, 26311.32046519512, 25961.15024474277, 24351.507310964564, 24112.707031973798, 24013.876599836298, 23643.87434073647, 184422.55720927007, 143452.11093291634, 140967.90214261986, 115472.25677393381, 74386.24434299722, 74378.0227271867, 74251.34397319226, 66402.2259104554, 59717.045901451624, 51483.4087224134, 50467.17004499741, 47637.53750735017, 47097.082151117385, 44172.50153918953, 42456.38256809922, 42407.385275359, 39790.14854556455, 39298.656936903615, 36122.917550295264, 35642.73066337379, 35508.37006582345, 35448.11074519442, 34827.412296668525, 33844.82247268476, 33370.42060252611, 33211.16644048717, 33199.047486024625, 32424.635927361764, 32096.365959289276, 31683.696347607016, 39907.6712269539, 273723.99524082063, 202229.4984011657, 170950.86629497068, 160385.82228599756, 144940.5132855254, 124353.31347270473, 122818.54112801403, 94177.1628730837, 80270.69736080596, 78313.86688749364, 61546.79532765762, 56732.10743810464, 52254.4468475867, 48973.33982285171, 47684.23173488439, 45965.892260954344, 45586.26727102228, 42440.41606631414, 41599.712743744705, 40856.290248430196, 37388.91317208476, 36926.798769992856, 35733.59414635855, 35273.18925886663, 32308.20226102671, 31452.241292107654, 29423.562449386227, 28741.511832937595, 28196.6246232174, 28041.302575666632, 206355.68183581607, 329233.8151595591, 297224.9630868965, 162171.53532024083, 113891.90428134298, 105334.08082215165, 94145.2565716391, 84992.73873550771, 62268.99879824227, 62105.295020118385, 60152.70524426289, 57963.16796988417, 53619.77532631216, 50421.314596560034, 50230.242966957245, 49295.7366596945, 48443.779627471995, 47316.48248256429, 45979.78761738922, 45895.882987860714, 44032.9224707817, 43577.878119940025, 43550.482979444576, 40158.03372743259, 38425.30549363194, 37868.6429094129, 37056.47629542191, 36413.353010458246, 34124.41397726798, 31958.74246391191, 30582.07828584132, 96891.26758649333, 206355.68183581607, 151380.70452766347, 121111.48996132046, 117347.54257993486, 97474.75392741269, 90439.65497209919, 77822.6609582609, 62545.53781439604, 59275.8588566659, 52672.212599260485, 51954.67886639969, 51178.72937035812, 48547.89159004653, 46230.58095264871, 45141.035750591036, 44157.110517162575, 43523.34599032052, 43185.14209257869, 41197.85249571045, 38787.170836963975, 38453.0240862771, 38284.182975295465, 38093.187039249555, 36029.75066473844, 35228.72794027712, 35045.548197896234, 34156.603728218855, 34114.20490194205, 33442.57267558553, 32157.616669893116, 31930.55356101988, 62426.63041665166, 159148.18690960357, 130298.59480029432, 121696.93174016844, 85348.93542251803, 82757.58906027833, 72954.10848894909, 68472.63585684958, 65518.39337382134, 53234.82515581062, 51495.00690428939, 51127.77672238754, 48640.014955165134, 46213.57133493899, 44990.13695911999, 44021.77356962292, 39316.4848913015, 39072.9972310746, 37863.770132036974, 36518.61330248486, 31560.66382472449, 31090.327344315378, 30514.233894237237, 29474.724566884044, 29375.70650111621, 29134.96837781013, 28108.129899901607, 27816.510647298743, 27510.406224970116, 27460.308005603165, 26394.356095773284, 26054.41820746651, 159148.18690960357, 116033.79872449629, 206355.68183581607], \"Category\": [\"Default\", \"Default\", \"Default\", \"Default\", \"Default\", \"Default\", \"Default\", \"Default\", \"Default\", \"Default\", \"Default\", \"Default\", \"Default\", \"Default\", \"Default\", \"Default\", \"Default\", \"Default\", \"Default\", \"Default\", \"Default\", \"Default\", \"Default\", \"Default\", \"Default\", \"Default\", \"Default\", \"Default\", \"Default\", \"Default\", \"Topic1\", \"Topic1\", \"Topic1\", \"Topic1\", \"Topic1\", \"Topic1\", \"Topic1\", \"Topic1\", \"Topic1\", \"Topic1\", \"Topic1\", \"Topic1\", \"Topic1\", \"Topic1\", \"Topic1\", \"Topic1\", \"Topic1\", \"Topic1\", \"Topic1\", \"Topic1\", \"Topic1\", \"Topic1\", \"Topic1\", \"Topic1\", \"Topic1\", \"Topic1\", \"Topic1\", \"Topic1\", \"Topic1\", \"Topic1\", \"Topic1\", \"Topic2\", \"Topic2\", \"Topic2\", \"Topic2\", \"Topic2\", \"Topic2\", \"Topic2\", \"Topic2\", \"Topic2\", \"Topic2\", \"Topic2\", \"Topic2\", \"Topic2\", \"Topic2\", \"Topic2\", \"Topic2\", \"Topic2\", \"Topic2\", \"Topic2\", \"Topic2\", \"Topic2\", \"Topic2\", \"Topic2\", \"Topic2\", \"Topic2\", \"Topic2\", \"Topic2\", \"Topic2\", \"Topic2\", \"Topic2\", \"Topic3\", \"Topic3\", \"Topic3\", \"Topic3\", \"Topic3\", \"Topic3\", \"Topic3\", \"Topic3\", \"Topic3\", \"Topic3\", \"Topic3\", \"Topic3\", \"Topic3\", \"Topic3\", \"Topic3\", \"Topic3\", \"Topic3\", \"Topic3\", \"Topic3\", \"Topic3\", \"Topic3\", \"Topic3\", \"Topic3\", \"Topic3\", \"Topic3\", \"Topic3\", \"Topic3\", \"Topic3\", \"Topic3\", \"Topic3\", \"Topic3\", \"Topic4\", \"Topic4\", \"Topic4\", \"Topic4\", \"Topic4\", \"Topic4\", \"Topic4\", \"Topic4\", \"Topic4\", \"Topic4\", \"Topic4\", \"Topic4\", \"Topic4\", \"Topic4\", \"Topic4\", \"Topic4\", \"Topic4\", \"Topic4\", \"Topic4\", \"Topic4\", \"Topic4\", \"Topic4\", \"Topic4\", \"Topic4\", \"Topic4\", \"Topic4\", \"Topic4\", \"Topic4\", \"Topic4\", \"Topic4\", \"Topic4\", \"Topic5\", \"Topic5\", \"Topic5\", \"Topic5\", \"Topic5\", \"Topic5\", \"Topic5\", \"Topic5\", \"Topic5\", \"Topic5\", \"Topic5\", \"Topic5\", \"Topic5\", \"Topic5\", \"Topic5\", \"Topic5\", \"Topic5\", \"Topic5\", \"Topic5\", \"Topic5\", \"Topic5\", \"Topic5\", \"Topic5\", \"Topic5\", \"Topic5\", \"Topic5\", \"Topic5\", \"Topic5\", \"Topic5\", \"Topic5\", \"Topic5\", \"Topic5\", \"Topic6\", \"Topic6\", \"Topic6\", \"Topic6\", \"Topic6\", \"Topic6\", \"Topic6\", \"Topic6\", \"Topic6\", \"Topic6\", \"Topic6\", \"Topic6\", \"Topic6\", \"Topic6\", \"Topic6\", \"Topic6\", \"Topic6\", \"Topic6\", \"Topic6\", \"Topic6\", \"Topic6\", \"Topic6\", \"Topic6\", \"Topic6\", \"Topic6\", \"Topic6\", \"Topic6\", \"Topic6\", \"Topic6\", \"Topic6\", \"Topic6\", \"Topic6\", \"Topic7\", \"Topic7\", \"Topic7\", \"Topic7\", \"Topic7\", \"Topic7\", \"Topic7\", \"Topic7\", \"Topic7\", \"Topic7\", \"Topic7\", \"Topic7\", \"Topic7\", \"Topic7\", \"Topic7\", \"Topic7\", \"Topic7\", \"Topic7\", \"Topic7\", \"Topic7\", \"Topic7\", \"Topic7\", \"Topic7\", \"Topic7\", \"Topic7\", \"Topic7\", \"Topic7\", \"Topic7\", \"Topic7\", \"Topic7\", \"Topic7\", \"Topic7\", \"Topic7\"], \"logprob\": [30.0, 29.0, 28.0, 27.0, 26.0, 25.0, 24.0, 23.0, 22.0, 21.0, 20.0, 19.0, 18.0, 17.0, 16.0, 15.0, 14.0, 13.0, 12.0, 11.0, 10.0, 9.0, 8.0, 7.0, 6.0, 5.0, 4.0, 3.0, 2.0, 1.0, -2.0393, -2.971, -3.3146, -3.4004, -3.4067, -3.4586, -3.844, -3.8983, -3.9392, -4.1712, -4.1825, -4.296, -4.2986, -4.2994, -4.3422, -4.4594, -4.4963, -4.5508, -4.5566, -4.5959, -4.6316, -4.67, -4.676, -4.6893, -4.7511, -4.7532, -4.7944, -4.8088, -4.8115, -4.8225, -4.4082, -2.0122, -2.0685, -2.8184, -2.9438, -2.949, -3.6134, -3.7525, -3.8377, -4.0439, -4.1374, -4.1592, -4.2762, -4.2953, -4.343, -4.4867, -4.5414, -4.5545, -4.5616, -4.6089, -4.6483, -4.7359, -4.7808, -4.8934, -4.9305, -4.9429, -4.9563, -5.0203, -5.0302, -5.0343, -5.0498, -2.8767, -3.1279, -3.1454, -3.3449, -3.7846, -3.7847, -3.7864, -3.8982, -4.0043, -4.1526, -4.1726, -4.2303, -4.2417, -4.3058, -4.3454, -4.3466, -4.4103, -4.4227, -4.507, -4.5204, -4.5241, -4.5258, -4.5435, -4.5721, -4.5862, -4.591, -4.5914, -4.615, -4.6252, -4.6381, -4.6077, -2.481, -2.7837, -2.9518, -3.0156, -3.1168, -3.27, -3.2824, -3.548, -3.7077, -3.7324, -3.9734, -4.0548, -4.137, -4.2019, -4.2285, -4.2653, -4.2735, -4.345, -4.3651, -4.3831, -4.4718, -4.4842, -4.5171, -4.53, -4.6178, -4.6447, -4.7114, -4.7348, -4.7539, -4.7595, -4.4511, -2.2914, -2.3937, -2.9995, -3.3529, -3.431, -3.5433, -3.6456, -3.9567, -3.9593, -3.9913, -4.0284, -4.1062, -4.1678, -4.1715, -4.1903, -4.2078, -4.2313, -4.26, -4.2618, -4.3032, -4.3136, -4.3142, -4.3953, -4.4395, -4.454, -4.4757, -4.4932, -4.5582, -4.6237, -4.6678, -4.0618, -4.1904, -3.0514, -3.2745, -3.306, -3.4916, -3.5665, -3.7167, -3.9353, -3.989, -4.1071, -4.1208, -4.1358, -4.1886, -4.2375, -4.2614, -4.2834, -4.2979, -4.3057, -4.3528, -4.4131, -4.4217, -4.4261, -4.4311, -4.4868, -4.5093, -4.5145, -4.5402, -4.5415, -4.5613, -4.6005, -4.6076, -4.1792, -4.5049, -3.0919, -3.1602, -3.515, -3.5458, -3.6719, -3.7353, -3.7794, -3.987, -4.0203, -4.0274, -4.0773, -4.1285, -4.1553, -4.1771, -4.2901, -4.2963, -4.3278, -4.3639, -4.5098, -4.5249, -4.5436, -4.5782, -4.5816, -4.5898, -4.6257, -4.6361, -4.6472, -4.649, -4.6886, -4.7016, -3.1434, -3.4234, -3.1835], \"loglift\": [30.0, 29.0, 28.0, 27.0, 26.0, 25.0, 24.0, 23.0, 22.0, 21.0, 20.0, 19.0, 18.0, 17.0, 16.0, 15.0, 14.0, 13.0, 12.0, 11.0, 10.0, 9.0, 8.0, 7.0, 6.0, 5.0, 4.0, 3.0, 2.0, 1.0, 1.7342, 1.7342, 1.7342, 1.7342, 1.7342, 1.7342, 1.7342, 1.7342, 1.7342, 1.7342, 1.7342, 1.7342, 1.7342, 1.7342, 1.7342, 1.7342, 1.7342, 1.7342, 1.7342, 1.7342, 1.7342, 1.7342, 1.7342, 1.7342, 1.7342, 1.7342, 1.7342, 1.7342, 1.7342, 1.7342, 1.5218, 1.8626, 1.8626, 1.8626, 1.8626, 1.8626, 1.8626, 1.8626, 1.8626, 1.8626, 1.8626, 1.8626, 1.8626, 1.8626, 1.8626, 1.8626, 1.8626, 1.8626, 1.8626, 1.8626, 1.8626, 1.8626, 1.8626, 1.8626, 1.8626, 1.8626, 1.8626, 1.8626, 1.8626, 1.8626, 1.8626, 1.9816, 1.9816, 1.9816, 1.9816, 1.9816, 1.9816, 1.9816, 1.9816, 1.9816, 1.9816, 1.9816, 1.9816, 1.9816, 1.9816, 1.9816, 1.9816, 1.9816, 1.9816, 1.9816, 1.9816, 1.9816, 1.9816, 1.9816, 1.9816, 1.9816, 1.9816, 1.9816, 1.9816, 1.9816, 1.9816, 1.7813, 1.9824, 1.9823, 1.9823, 1.9823, 1.9823, 1.9823, 1.9823, 1.9823, 1.9823, 1.9823, 1.9823, 1.9823, 1.9823, 1.9823, 1.9823, 1.9823, 1.9823, 1.9823, 1.9823, 1.9823, 1.9823, 1.9823, 1.9823, 1.9823, 1.9823, 1.9823, 1.9823, 1.9823, 1.9823, 1.9823, 0.2948, 1.9873, 1.9873, 1.9873, 1.9873, 1.9873, 1.9873, 1.9873, 1.9873, 1.9873, 1.9873, 1.9873, 1.9873, 1.9873, 1.9873, 1.9873, 1.9873, 1.9873, 1.9873, 1.9873, 1.9873, 1.9873, 1.9873, 1.9873, 1.9873, 1.9873, 1.9873, 1.9873, 1.9873, 1.9873, 1.9873, 1.4402, 0.5555, 2.0043, 2.0043, 2.0043, 2.0043, 2.0043, 2.0043, 2.0043, 2.0043, 2.0043, 2.0043, 2.0043, 2.0043, 2.0043, 2.0043, 2.0043, 2.0043, 2.0043, 2.0043, 2.0043, 2.0043, 2.0043, 2.0043, 2.0043, 2.0043, 2.0043, 2.0043, 2.0043, 2.0043, 2.0043, 2.0043, 1.7623, 0.5007, 2.1137, 2.1137, 2.1137, 2.1137, 2.1137, 2.1137, 2.1137, 2.1137, 2.1137, 2.1137, 2.1137, 2.1137, 2.1137, 2.1137, 2.1137, 2.1137, 2.1137, 2.1137, 2.1137, 2.1137, 2.1137, 2.1137, 2.1137, 2.1137, 2.1137, 2.1137, 2.1137, 2.1137, 2.1137, 2.1137, 1.8623, 1.8982, 1.5624]}, \"token.table\": {\"Topic\": [4, 2, 5, 3, 1, 6, 4, 7, 6, 2, 1, 2, 6, 5, 2, 3, 1, 4, 7, 6, 5, 2, 5, 2, 2, 5, 6, 3, 1, 2, 4, 4, 5, 1, 2, 4, 2, 1, 5, 2, 5, 4, 1, 5, 7, 2, 4, 7, 4, 3, 3, 6, 1, 2, 6, 2, 2, 5, 1, 6, 7, 4, 7, 3, 5, 6, 6, 4, 4, 4, 2, 2, 3, 4, 7, 1, 1, 1, 7, 6, 1, 7, 4, 6, 6, 3, 5, 3, 3, 5, 6, 4, 2, 7, 2, 4, 3, 6, 7, 2, 1, 1, 6, 5, 1, 5, 3, 4, 6, 4, 5, 3, 3, 4, 6, 7, 7, 6, 7, 1, 1, 5, 1, 4, 4, 1, 4, 4, 5, 7, 3, 4, 6, 1, 4, 1, 2, 1, 7, 1, 4, 4, 6, 2, 4, 5, 7, 1, 6, 6, 3, 5, 2, 2, 1, 3, 1, 3, 7, 6, 2, 4, 5, 6, 6, 3, 7, 5, 1, 7, 2, 7, 5, 7, 5, 2, 7, 7, 7, 5, 4, 5, 3, 7, 6, 5, 3, 1, 7, 3, 5, 3, 7, 6, 6, 3, 5, 1, 7, 3, 7, 7, 2, 3, 3, 1, 5, 6, 3, 5, 2, 7, 5, 1, 6, 7, 3, 2, 3, 7, 2, 3, 4, 5, 6, 5], \"Freq\": [0.9999930610643885, 0.9999856188680956, 1.0000030739625076, 0.9999887167268021, 0.9999989130095305, 1.0000022330517335, 0.9999937396384647, 0.9999865086394988, 1.000002381126766, 1.0000037942353217, 1.00000478807583, 1.000001651203242, 1.000009064289106, 0.9999972747257967, 1.0000024236237885, 0.9999909148994567, 1.0000074554663787, 1.0000037702325255, 1.0000106517175107, 1.0000043565940169, 0.9999991601323707, 0.9999992247536509, 0.999995249678497, 1.0000001067814042, 0.9999956872270915, 0.9999898030762436, 1.0000119203518973, 0.9999962667753205, 0.9999950843725154, 0.9999977482663995, 1.0000069052461267, 1.0000054494300574, 0.9999903054668394, 0.9999926236520288, 0.9999937770332056, 1.0000007821254857, 0.9999973096278529, 0.9999958875185051, 0.9999920496759098, 0.9999791671637371, 0.9999878685896774, 1.0000133128268938, 0.24144590717751258, 0.5785763918297075, 0.17997493927338054, 0.9999878202541927, 0.19392625465470972, 0.8060754799735272, 1.0000016997309882, 0.9999886458957031, 0.9999977763149264, 0.9999843575596781, 0.8086342191396463, 0.19135111236602603, 0.9999826635946407, 1.00000124751854, 0.9999985485667295, 1.0000025495127596, 0.9999943227373513, 0.9999953762991288, 0.9999839486929556, 0.9999821918575276, 1.0000099912110634, 0.9999985696570167, 0.9999889098946433, 1.000002524475081, 1.0000019518493948, 1.00000232229043, 0.9999974791769035, 0.9999914486208608, 0.9999994667296725, 1.0000121499434225, 1.0000006941819992, 0.9999892096429609, 0.999989471184663, 0.999988588048519, 0.9999991104720894, 1.000005192211065, 1.0000105890525453, 0.9999993736181308, 1.0000072842401586, 1.0000000708654466, 0.9999923283016491, 1.0000077226666642, 1.0000069202605335, 0.9999992266902479, 1.000002796833284, 0.9999967152126126, 0.9999966305818762, 0.9999966990493137, 0.9999974971830974, 0.9999982705671022, 0.9999941418214808, 0.9999939959788224, 1.0000130799539853, 1.0000023438910974, 1.0000022824763426, 0.9999967096882909, 0.9999887836071212, 1.0000051387023328, 0.9999986875212719, 0.9999875223887963, 0.9999828758513561, 1.0000046190428835, 1.0000019611042963, 1.0000001241924739, 0.9999982557068584, 0.9999951402198177, 0.9999992080245736, 0.9999955940853144, 0.9999871467697545, 1.0000112282722018, 0.9999909891498974, 0.99999463448385, 1.0000038150068233, 0.9999816422949227, 0.9999876370745111, 0.9999914012347669, 1.0000031097780164, 0.999993730326341, 0.9999919922613953, 0.9999951629348597, 1.000000285348166, 0.9999941370276997, 1.0000000173867818, 0.9999850611017932, 0.9999981062204545, 1.000001108040598, 0.9999971021272637, 1.0000093447223004, 0.9999949884179025, 0.9999964586469734, 0.9999959544604676, 1.000002816957496, 0.9999901964600562, 1.0000018993587414, 1.000000466724044, 0.9999873185896804, 1.000006070921153, 0.9999986586964755, 1.0000113577615448, 1.0000033254752143, 0.9999952206033603, 0.9999999581408059, 0.1849670416653156, 0.23888365738928796, 0.5761556887713686, 0.9999872831641871, 0.99999596373021, 1.0000052879320218, 0.9999881617197105, 0.999999232706537, 0.9999951914562857, 0.9999990753359538, 1.0000091054740086, 1.0000052453315535, 1.0000016666215594, 0.9999920610848516, 1.0000032843949214, 1.0000116016154386, 1.0000053146646661, 0.999980884388585, 1.0000045490366296, 1.0000061810333027, 0.9999955955291328, 0.9999992313509328, 1.000000756629027, 0.9999937606434391, 0.9999878266998804, 0.9999998659231292, 1.000005074750564, 0.9999969557967757, 1.0000017607102585, 1.0000053180828496, 1.000000019299455, 0.9999942127085528, 1.0000010853689443, 0.9999953785647757, 0.9999852337705669, 1.0000053420503139, 0.9999975354675275, 1.000009429717034, 0.9999969786273517, 1.000004367051078, 0.9999950899553413, 1.0000041901273637, 0.999999694436799, 0.9999994104145978, 0.9999923349136652, 0.9999885981082799, 1.0000008404342489, 0.9999873959477131, 0.9999876669721914, 1.0000035803878264, 0.9999939936474369, 0.8184641948723683, 0.18151898563069638, 1.0000014485361117, 1.0000005609001852, 0.9999953674482662, 0.9999985129151554, 1.0000051435996036, 0.999986852242192, 1.0000095838689291, 1.000008729639207, 1.0000002513814612, 1.0000005614260516, 0.9999920504659592, 1.0000075565654258, 1.0000049001243736, 0.9999890760721669, 1.0000049655835355, 0.9999974401399216, 0.9999841661172133, 0.22232738359814053, 0.7776777254163711, 0.9999895780678537, 1.0000115699025918, 0.999996597848155, 0.9999996925337061, 0.9999981265352849, 0.9999968758505858, 0.9999928958691935, 0.21497235891848415, 0.7850175425603007, 1.000008058392422], \"Term\": [\"100\", \"1er\", \"2020\", \"24h\", \"actuellement\", \"afrique\", \"alerte\", \"allemagne\", \"allez\", \"annonce\", \"ann\\u00e9e\", \"ans\", \"article\", \"aujourdhui\", \"baisse\", \"belgique\", \"besoin\", \"bilan\", \"bonjour\", \"bonne\", \"canada\", \"cas\", \"cause\", \"centre\", \"chiffres\", \"chine\", \"chose\", \"compte\", \"confinement\", \"confirm\\u00e9s\", \"conseil\", \"contaminations\", \"continue\", \"coup\", \"cours\", \"crise\", \"c\\u00e9tait\", \"demain\", \"demande\", \"derniers\", \"derni\\u00e8res\", \"des\\u2026\", \"de\\u2026\", \"de\\u2026\", \"de\\u2026\", \"dimanche\", \"direct\", \"direct\", \"disponible\", \"donn\\u00e9es\", \"dose\", \"droit\", \"dune\", \"dune\", \"du\\u2026\", \"d\\u00e9c\\u00e8s\", \"d\\u00e9tect\\u00e9\", \"effets\", \"emmanuel\", \"enfants\", \"enqu\\u00eate\", \"en\\u2026\", \"esp\\u00e8re\", \"et\\u2026\", \"europe\", \"face\", \"faut\", \"feu\", \"fin\", \"flash\", \"france\", \"franceinfo\", \"fran\\u00e7ais\", \"f\\u00eate\", \"genre\", \"gestion\", \"gouvernement\", \"grand\", \"grave\", \"gr\\u00e2ce\", \"heures\", \"hier\", \"h\\u00f4pital\", \"h\\u00f4pitaux\", \"important\", \"inde\", \"info\", \"jamais\", \"jeunes\", \"jour\", \"journ\\u00e9e\", \"jours\", \"laboratoire\", \"la\\u2026\", \"lieu\", \"ligne\", \"lire\", \"loms\", \"lon\", \"long\", \"lundi\", \"lutte\", \"lyon\", \"l\\u00e9pid\\u00e9mie\", \"macron\", \"mai\", \"mal\", \"malades\", \"maladie\", \"masque\", \"masques\", \"matin\", \"mercredi\", \"merde\", \"mesures\", \"met\", \"mettre\", \"mieux\", \"millions\", \"ministre\", \"mis\", \"mise\", \"mois\", \"moment\", \"monde\", \"mondiale\", \"mort\", \"morts\", \"m\\u00e9decins\", \"m\\u00e9dias\", \"nationale\", \"nombre\", \"nouvelle\", \"nouvelles\", \"oms\", \"pand\\u00e9mie\", \"paris\", \"part\", \"partie\", \"partir\", \"partout\", \"passe\", \"passer\", \"patients\", \"pays\", \"pays\", \"pays\", \"petit\", \"peur\", \"place\", \"plan\", \"point\", \"politique\", \"population\", \"port\", \"positif\", \"pouvoir\", \"prendre\", \"presse\", \"pris\", \"probl\\u00e8me\", \"prot\\u00e9ger\", \"pr\\u00e9sident\", \"question\", \"questions\", \"quon\", \"qu\\u00e9bec\", \"raison\", \"rappel\", \"rapport\", \"rdc\", \"rendezvous\", \"restrictions\", \"re\\u00e7u\", \"risque\", \"r\\u00e9gion\", \"r\\u00e9ponse\", \"r\\u00e9sultats\", \"sais\", \"samedi\", \"sanitaire\", \"sanitaires\", \"sant\\u00e9\", \"savoir\", \"scientifique\", \"scientifiques\", \"semaine\", \"semaines\", \"service\", \"site\", \"situation\", \"sociale\", \"soir\", \"sortie\", \"sortir\", \"suite\", \"suite\", \"taux\", \"temps\", \"test\", \"tests\", \"the\", \"total\", \"traitement\", \"travail\", \"vaccin\", \"vaccins\", \"vendredi\", \"veulent\", \"veut\", \"vid\\u00e9o\", \"vie\", \"vient\", \"ville\", \"virus\", \"virus\", \"vite\", \"vivre\", \"voir\", \"vrai\", \"wuhan\", \"\\u00e9coles\", \"\\u00e9conomique\", \"\\u00e9pid\\u00e9mie\", \"\\u00e9pid\\u00e9mie\", \"\\u00e9tatsunis\"]}, \"R\": 30, \"lambda.step\": 0.01, \"plot.opts\": {\"xlab\": \"PC1\", \"ylab\": \"PC2\"}, \"topic.order\": [2, 1, 7, 5, 4, 3, 6]};\n",
       "\n",
       "function LDAvis_load_lib(url, callback){\n",
       "  var s = document.createElement('script');\n",
       "  s.src = url;\n",
       "  s.async = true;\n",
       "  s.onreadystatechange = s.onload = callback;\n",
       "  s.onerror = function(){console.warn(\"failed to load library \" + url);};\n",
       "  document.getElementsByTagName(\"head\")[0].appendChild(s);\n",
       "}\n",
       "\n",
       "if(typeof(LDAvis) !== \"undefined\"){\n",
       "   // already loaded: just create the visualization\n",
       "   !function(LDAvis){\n",
       "       new LDAvis(\"#\" + \"ldavis_el2282020868928814807590620365\", ldavis_el2282020868928814807590620365_data);\n",
       "   }(LDAvis);\n",
       "}else if(typeof define === \"function\" && define.amd){\n",
       "   // require.js is available: use it to load d3/LDAvis\n",
       "   require.config({paths: {d3: \"https://d3js.org/d3.v5\"}});\n",
       "   require([\"d3\"], function(d3){\n",
       "      window.d3 = d3;\n",
       "      LDAvis_load_lib(\"https://cdn.jsdelivr.net/gh/bmabey/pyLDAvis@3.3.1/pyLDAvis/js/ldavis.v3.0.0.js\", function(){\n",
       "        new LDAvis(\"#\" + \"ldavis_el2282020868928814807590620365\", ldavis_el2282020868928814807590620365_data);\n",
       "      });\n",
       "    });\n",
       "}else{\n",
       "    // require.js not available: dynamically load d3 & LDAvis\n",
       "    LDAvis_load_lib(\"https://d3js.org/d3.v5.js\", function(){\n",
       "         LDAvis_load_lib(\"https://cdn.jsdelivr.net/gh/bmabey/pyLDAvis@3.3.1/pyLDAvis/js/ldavis.v3.0.0.js\", function(){\n",
       "                 new LDAvis(\"#\" + \"ldavis_el2282020868928814807590620365\", ldavis_el2282020868928814807590620365_data);\n",
       "            })\n",
       "         });\n",
       "}\n",
       "</script>"
      ],
      "text/plain": [
       "<IPython.core.display.HTML object>"
      ]
     },
     "execution_count": 113,
     "metadata": {},
     "output_type": "execute_result"
    }
   ],
   "source": [
    "vis = pyLDAvis.gensim_models.prepare(topic_model=lda_model, corpus=corpus, dictionary=dictionary_LDA)\n",
    "pyLDAvis.enable_notebook()\n",
    "pyLDAvis.display(vis)"
   ]
  },
  {
   "cell_type": "code",
   "execution_count": 2,
   "id": "ee450e04",
   "metadata": {},
   "outputs": [],
   "source": [
    "import pickle"
   ]
  },
  {
   "cell_type": "code",
   "execution_count": 7,
   "id": "386e3aa1",
   "metadata": {},
   "outputs": [],
   "source": [
    "list_name = \"topic_weeks.pkl\""
   ]
  },
  {
   "cell_type": "code",
   "execution_count": 4,
   "id": "e085971d",
   "metadata": {
    "scrolled": true
   },
   "outputs": [
    {
     "ename": "NameError",
     "evalue": "name 'topic' is not defined",
     "output_type": "error",
     "traceback": [
      "\u001b[1;31m---------------------------------------------------------------------------\u001b[0m",
      "\u001b[1;31mNameError\u001b[0m                                 Traceback (most recent call last)",
      "\u001b[1;32m<ipython-input-4-dcb4672af954>\u001b[0m in \u001b[0;36m<module>\u001b[1;34m\u001b[0m\n\u001b[0;32m      1\u001b[0m \u001b[0mopen_file\u001b[0m \u001b[1;33m=\u001b[0m \u001b[0mopen\u001b[0m\u001b[1;33m(\u001b[0m\u001b[0mlist_name\u001b[0m\u001b[1;33m,\u001b[0m \u001b[1;34m\"wb\"\u001b[0m\u001b[1;33m)\u001b[0m\u001b[1;33m\u001b[0m\u001b[1;33m\u001b[0m\u001b[0m\n\u001b[1;32m----> 2\u001b[1;33m \u001b[0mpickle\u001b[0m\u001b[1;33m.\u001b[0m\u001b[0mdump\u001b[0m\u001b[1;33m(\u001b[0m\u001b[0mtopic\u001b[0m\u001b[1;33m,\u001b[0m \u001b[0mopen_file\u001b[0m\u001b[1;33m)\u001b[0m\u001b[1;33m\u001b[0m\u001b[1;33m\u001b[0m\u001b[0m\n\u001b[0m\u001b[0;32m      3\u001b[0m \u001b[0mopen_file\u001b[0m\u001b[1;33m.\u001b[0m\u001b[0mclose\u001b[0m\u001b[1;33m(\u001b[0m\u001b[1;33m)\u001b[0m\u001b[1;33m\u001b[0m\u001b[1;33m\u001b[0m\u001b[0m\n",
      "\u001b[1;31mNameError\u001b[0m: name 'topic' is not defined"
     ]
    }
   ],
   "source": [
    "open_file = open(list_name, \"wb\")\n",
    "pickle.dump(topic, open_file)\n",
    "open_file.close()"
   ]
  },
  {
   "cell_type": "code",
   "execution_count": 8,
   "id": "92b7bdb2",
   "metadata": {},
   "outputs": [
    {
     "ename": "EOFError",
     "evalue": "Ran out of input",
     "output_type": "error",
     "traceback": [
      "\u001b[1;31m---------------------------------------------------------------------------\u001b[0m",
      "\u001b[1;31mEOFError\u001b[0m                                  Traceback (most recent call last)",
      "\u001b[1;32m<ipython-input-8-7b7b74651fc1>\u001b[0m in \u001b[0;36m<module>\u001b[1;34m\u001b[0m\n\u001b[0;32m      1\u001b[0m \u001b[0mopen_file\u001b[0m \u001b[1;33m=\u001b[0m \u001b[0mopen\u001b[0m\u001b[1;33m(\u001b[0m\u001b[0mlist_name\u001b[0m\u001b[1;33m,\u001b[0m \u001b[1;34m\"rb\"\u001b[0m\u001b[1;33m)\u001b[0m\u001b[1;33m\u001b[0m\u001b[1;33m\u001b[0m\u001b[0m\n\u001b[1;32m----> 2\u001b[1;33m \u001b[0mtopic\u001b[0m \u001b[1;33m=\u001b[0m \u001b[0mpickle\u001b[0m\u001b[1;33m.\u001b[0m\u001b[0mload\u001b[0m\u001b[1;33m(\u001b[0m\u001b[0mopen_file\u001b[0m\u001b[1;33m)\u001b[0m\u001b[1;33m\u001b[0m\u001b[1;33m\u001b[0m\u001b[0m\n\u001b[0m\u001b[0;32m      3\u001b[0m \u001b[0mopen_file\u001b[0m\u001b[1;33m.\u001b[0m\u001b[0mclose\u001b[0m\u001b[1;33m(\u001b[0m\u001b[1;33m)\u001b[0m\u001b[1;33m\u001b[0m\u001b[1;33m\u001b[0m\u001b[0m\n",
      "\u001b[1;31mEOFError\u001b[0m: Ran out of input"
     ]
    }
   ],
   "source": [
    "open_file = open(list_name, \"rb\")\n",
    "topic = pickle.load(open_file)\n",
    "open_file.close()"
   ]
  },
  {
   "cell_type": "code",
   "execution_count": 66,
   "id": "455d44a6",
   "metadata": {
    "scrolled": false
   },
   "outputs": [
    {
     "name": "stderr",
     "output_type": "stream",
     "text": [
      "C:\\Users\\sbens\\Miniconda3\\lib\\site-packages\\ipykernel\\ipkernel.py:287: DeprecationWarning: `should_run_async` will not call `transform_cell` automatically in the future. Please pass the result to `transformed_cell` argument and any exception that happen during thetransform in `preprocessing_exc_tuple` in IPython 7.17 and above.\n",
      "  and should_run_async(code)\n"
     ]
    }
   ],
   "source": [
    "range_time = 71"
   ]
  },
  {
   "cell_type": "code",
   "execution_count": 93,
   "id": "ec9e43ab",
   "metadata": {},
   "outputs": [
    {
     "name": "stderr",
     "output_type": "stream",
     "text": [
      "C:\\Users\\sbens\\Miniconda3\\lib\\site-packages\\ipykernel\\ipkernel.py:287: DeprecationWarning: `should_run_async` will not call `transform_cell` automatically in the future. Please pass the result to `transformed_cell` argument and any exception that happen during thetransform in `preprocessing_exc_tuple` in IPython 7.17 and above.\n",
      "  and should_run_async(code)\n"
     ]
    }
   ],
   "source": [
    "topics_condensed_list = [np.zeros(range_time) for i in range(7)]\n",
    "for i in range(7):\n",
    "    for j in range(range_time):\n",
    "        topics_condensed_list[i][j] = topic[j][i][1]\n",
    "    "
   ]
  },
  {
   "cell_type": "code",
   "execution_count": 94,
   "id": "3052a30b",
   "metadata": {},
   "outputs": [
    {
     "name": "stderr",
     "output_type": "stream",
     "text": [
      "C:\\Users\\sbens\\Miniconda3\\lib\\site-packages\\ipykernel\\ipkernel.py:287: DeprecationWarning: `should_run_async` will not call `transform_cell` automatically in the future. Please pass the result to `transformed_cell` argument and any exception that happen during thetransform in `preprocessing_exc_tuple` in IPython 7.17 and above.\n",
      "  and should_run_async(code)\n"
     ]
    }
   ],
   "source": [
    "start_date = datetime.date(2020,1,12)\n",
    "end_date = datetime.date(2021,5,23)\n",
    "range_time = (end_date-start_date).days//7\n",
    "date_list = []\n",
    "current_date = start_date"
   ]
  },
  {
   "cell_type": "code",
   "execution_count": 95,
   "id": "d935c3e8",
   "metadata": {},
   "outputs": [
    {
     "name": "stderr",
     "output_type": "stream",
     "text": [
      "C:\\Users\\sbens\\Miniconda3\\lib\\site-packages\\ipykernel\\ipkernel.py:287: DeprecationWarning: `should_run_async` will not call `transform_cell` automatically in the future. Please pass the result to `transformed_cell` argument and any exception that happen during thetransform in `preprocessing_exc_tuple` in IPython 7.17 and above.\n",
      "  and should_run_async(code)\n"
     ]
    }
   ],
   "source": [
    "while current_date < end_date:\n",
    "    date_list.append(current_date)\n",
    "    current_date = current_date+datetime.timedelta(7)"
   ]
  },
  {
   "cell_type": "code",
   "execution_count": 104,
   "id": "4a60aba4",
   "metadata": {},
   "outputs": [
    {
     "name": "stderr",
     "output_type": "stream",
     "text": [
      "C:\\Users\\sbens\\Miniconda3\\lib\\site-packages\\ipykernel\\ipkernel.py:287: DeprecationWarning: `should_run_async` will not call `transform_cell` automatically in the future. Please pass the result to `transformed_cell` argument and any exception that happen during thetransform in `preprocessing_exc_tuple` in IPython 7.17 and above.\n",
      "  and should_run_async(code)\n"
     ]
    },
    {
     "data": {
      "image/png": "[encoded data removed]",
      "text/plain": [
       "<Figure size 1200x480 with 1 Axes>"
      ]
     },
     "metadata": {
      "needs_background": "light"
     },
     "output_type": "display_data"
    }
   ],
   "source": [
    "fig, ax = plt.subplots(figsize=(15, 6), dpi=80)\n",
    "x=date_list\n",
    "y0=topics_condensed_list[0]\n",
    "y1=topics_condensed_list[1]\n",
    "y2=topics_condensed_list[2]\n",
    "y3=topics_condensed_list[3]\n",
    "y4=topics_condensed_list[4]\n",
    "y5=topics_condensed_list[5]\n",
    "y6=topics_condensed_list[6]\n",
    "plt.stackplot(x,y0, y1, y2, y3, y4, y5, y6, labels=['Topic1','Topic2','Topic3','Topic4','Topic5','Topic6', 'Topic7'])\n",
    "plt.xlabel(\"Time\")\n",
    "plt.ylabel(\"Cumulative percentage\")\n",
    "plt.title(\"Topic distribution over time\")\n",
    "# Basic stacked area chart.\n",
    "plt.legend(loc='best')\n",
    "plt.show()"
   ]
  },
  {
   "cell_type": "code",
   "execution_count": 112,
   "id": "fbf75ef0",
   "metadata": {},
   "outputs": [
    {
     "name": "stderr",
     "output_type": "stream",
     "text": [
      "C:\\Users\\sbens\\Miniconda3\\lib\\site-packages\\ipykernel\\ipkernel.py:287: DeprecationWarning: `should_run_async` will not call `transform_cell` automatically in the future. Please pass the result to `transformed_cell` argument and any exception that happen during thetransform in `preprocessing_exc_tuple` in IPython 7.17 and above.\n",
      "  and should_run_async(code)\n"
     ]
    },
    {
     "data": {
      "image/png": "[encoded data removed]",
      "text/plain": [
       "<Figure size 1200x480 with 1 Axes>"
      ]
     },
     "metadata": {
      "needs_background": "light"
     },
     "output_type": "display_data"
    }
   ],
   "source": [
    "fig, ax = plt.subplots(figsize=(15, 6), dpi=80)\n",
    "x=date_list\n",
    "y0=topics_condensed_list[0]\n",
    "y1=topics_condensed_list[1]\n",
    "y2=topics_condensed_list[2]\n",
    "y3=topics_condensed_list[3]\n",
    "y4=topics_condensed_list[4]\n",
    "y5=topics_condensed_list[5]\n",
    "y6=topics_condensed_list[6]\n",
    "\n",
    "plt.plot(x, y0, label=\"Topic 1\")\n",
    "plt.plot(x, y1, label=\"Topic 2\")\n",
    "plt.plot(x, y2, label=\"Topic 3\")\n",
    "plt.plot(x, y3, label=\"Topic 4\")\n",
    "plt.plot(x, y4, label=\"Topic 5\")\n",
    "plt.plot(x, y5, label=\"Topic 6\")\n",
    "plt.plot(x, y6, label=\"Topic 7\")\n",
    "\n",
    "conf1start = mdates.date2num(datetime.date(2020, 3, 17))\n",
    "conf1end = mdates.date2num(datetime.date(2020, 5, 11))\n",
    "conf1length = conf1end - conf1start\n",
    "conf1 = patches.Rectangle((conf1start,0), conf1length, 0.5, color=\"#a0bfff\", label=\"confinement\")\n",
    "ax.add_patch(conf1)\n",
    "\n",
    "conf2start = mdates.date2num(datetime.date(2020, 10, 30))\n",
    "conf2end = mdates.date2num(datetime.date(2020, 12, 15))\n",
    "conf2length = conf2end - conf2start\n",
    "conf2 = patches.Rectangle((conf2start,-0), conf2length, 0.5, color=\"#a0bfff\")\n",
    "ax.add_patch(conf2)\n",
    "\n",
    "\n",
    "conf3start = mdates.date2num(datetime.date(2021, 4, 3))\n",
    "conf3end = mdates.date2num(datetime.date(2021, 5, 3))\n",
    "conf3length = conf3end - conf3start\n",
    "conf3 = patches.Rectangle((conf3start,-0), conf3length, 0.5, color=\"#a0bfff\")\n",
    "ax.add_patch(conf3)\n",
    "\n",
    "cvfeu1start = mdates.date2num(datetime.date(2020, 10, 17))\n",
    "cvfeu1end = mdates.date2num(datetime.date(2020, 10, 30))\n",
    "cvfeu1length = cvfeu1end - cvfeu1start\n",
    "cvfeu1 = patches.Rectangle((cvfeu1start,-0), cvfeu1length, 0.5, color=\"#FFDCE4\", label=\"couvre feu\")\n",
    "ax.add_patch(cvfeu1)\n",
    "\n",
    "cvfeu2start = mdates.date2num(datetime.date(2020, 12, 15))\n",
    "cvfeu2end = mdates.date2num(datetime.date(2021, 4, 3))\n",
    "cvfeu2length = cvfeu2end - cvfeu2start\n",
    "cvfeu2 = patches.Rectangle((cvfeu2start,-0), cvfeu2length, 0.5, color=\"#FFDCE4\")\n",
    "ax.add_patch(cvfeu2)\n",
    "\n",
    "plt.xlabel(\"Time\")\n",
    "plt.ylabel(\"Cumulative percentage\")\n",
    "plt.title(\"Topic distribution over time\")\n",
    "# Basic stacked area chart.\n",
    "plt.show()"
   ]
  },
  {
   "cell_type": "code",
   "execution_count": 69,
   "id": "14dc1cd0",
   "metadata": {},
   "outputs": [
    {
     "name": "stderr",
     "output_type": "stream",
     "text": [
      "C:\\Users\\sbens\\Miniconda3\\lib\\site-packages\\ipykernel\\ipkernel.py:287: DeprecationWarning: `should_run_async` will not call `transform_cell` automatically in the future. Please pass the result to `transformed_cell` argument and any exception that happen during thetransform in `preprocessing_exc_tuple` in IPython 7.17 and above.\n",
      "  and should_run_async(code)\n"
     ]
    }
   ],
   "source": []
  },
  {
   "cell_type": "code",
   "execution_count": null,
   "id": "79f0fbb2",
   "metadata": {},
   "outputs": [],
   "source": []
  }
 ],
 "metadata": {
  "kernelspec": {
   "display_name": "Python 3",
   "language": "python",
   "name": "python3"
  },
  "language_info": {
   "codemirror_mode": {
    "name": "ipython",
    "version": 3
   },
   "file_extension": ".py",
   "mimetype": "text/x-python",
   "name": "python",
   "nbconvert_exporter": "python",
   "pygments_lexer": "ipython3",
   "version": "3.7.4"
  }
 },
 "nbformat": 4,
 "nbformat_minor": 5
}
